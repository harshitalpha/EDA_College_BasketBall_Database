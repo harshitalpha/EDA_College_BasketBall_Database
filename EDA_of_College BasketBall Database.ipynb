{
 "cells": [
  {
   "cell_type": "markdown",
   "metadata": {},
   "source": [
    "# In this Notebook we will doing the Exploratory Data Analysis of College Basketball Dataset"
   ]
  },
  {
   "cell_type": "markdown",
   "metadata": {},
   "source": [
    "### Description of the columns\n",
    "\n",
    "* TEAM: The Division I college basketball school\n",
    "\n",
    "* CONF: The Athletic Conference in which the school participates in \n",
    "\n",
    "* G: Number of games played\n",
    "\n",
    "* W: Number of games won\n",
    "\n",
    "* ADJOE: Adjusted Offensive Efficiency (An estimate of the offensive efficiency (points scored per 100 possessions) a team would have against the average Division I defense)\n",
    "\n",
    "* ADJDE: Adjusted Defensive Efficiency (An estimate of the defensive efficiency (points allowed per 100 possessions) a team would have against the average Division I offense)\n",
    "\n",
    "* BARTHAG: Power Rating (Chance of beating an average Division I team)\n",
    "\n",
    "* EFG_O: Effective Field Goal Percentage Shot\n",
    "\n",
    "* EFG_D: Effective Field Goal Percentage Allowed\n",
    "\n",
    "* TOR: Turnover Percentage Allowed (Turnover Rate)\n",
    "\n",
    "* TORD: Turnover Percentage Committed (Steal Rate)\n",
    "\n",
    "* ORB: Offensive Rebound Percentage\n",
    "\n",
    "* DRB: Defensive Rebound Percentage\n",
    "\n",
    "* FTR : Free Throw Rate (How often the given team shoots Free Throws)\n",
    "\n",
    "* FTRD: Free Throw Rate Allowed\n",
    "\n",
    "* 2P_O: Two-Point Shooting Percentage\n",
    "\n",
    "* 2P_D: Two-Point Shooting Percentage Allowed\n",
    "\n",
    "* 3P_O: Three-Point Shooting Percentage\n",
    "\n",
    "* 3P_D: Three-Point Shooting Percentage Allowed\n",
    "\n",
    "* ADJ_T: Adjusted Tempo (An estimate of the tempo (possessions per 40 minutes) a team would have against the team that wants to play at an average Division I tempo)\n",
    "\n",
    "* WAB: Wins Above Bubble (The bubble refers to the cut off between making the NCAA March Madness Tournament and not making it)\n",
    "\n",
    "* POSTSEASON: Round where the given team was eliminated or where their season ended \n",
    "\n",
    "* SEED: Seed in the NCAA March Madness Tournament\n",
    "\n",
    "* YEAR: Season"
   ]
  },
  {
   "cell_type": "markdown",
   "metadata": {},
   "source": [
    "## Importing Dependencies"
   ]
  },
  {
   "cell_type": "code",
   "execution_count": 1,
   "metadata": {},
   "outputs": [],
   "source": [
    "import numpy as np\n",
    "import pandas as pd\n",
    "from matplotlib import pyplot as plt\n",
    "import seaborn as sns\n",
    "\n"
   ]
  },
  {
   "cell_type": "code",
   "execution_count": 2,
   "metadata": {},
   "outputs": [],
   "source": [
    "df = pd.read_csv(\"cbb.csv\")"
   ]
  },
  {
   "cell_type": "code",
   "execution_count": 3,
   "metadata": {},
   "outputs": [
    {
     "data": {
      "text/html": [
       "<div>\n",
       "<style scoped>\n",
       "    .dataframe tbody tr th:only-of-type {\n",
       "        vertical-align: middle;\n",
       "    }\n",
       "\n",
       "    .dataframe tbody tr th {\n",
       "        vertical-align: top;\n",
       "    }\n",
       "\n",
       "    .dataframe thead th {\n",
       "        text-align: right;\n",
       "    }\n",
       "</style>\n",
       "<table border=\"1\" class=\"dataframe\">\n",
       "  <thead>\n",
       "    <tr style=\"text-align: right;\">\n",
       "      <th></th>\n",
       "      <th>G</th>\n",
       "      <th>W</th>\n",
       "      <th>ADJOE</th>\n",
       "      <th>ADJDE</th>\n",
       "      <th>BARTHAG</th>\n",
       "      <th>EFG_O</th>\n",
       "      <th>EFG_D</th>\n",
       "      <th>TOR</th>\n",
       "      <th>TORD</th>\n",
       "      <th>ORB</th>\n",
       "      <th>...</th>\n",
       "      <th>FTR</th>\n",
       "      <th>FTRD</th>\n",
       "      <th>2P_O</th>\n",
       "      <th>2P_D</th>\n",
       "      <th>3P_O</th>\n",
       "      <th>3P_D</th>\n",
       "      <th>ADJ_T</th>\n",
       "      <th>WAB</th>\n",
       "      <th>SEED</th>\n",
       "      <th>YEAR</th>\n",
       "    </tr>\n",
       "  </thead>\n",
       "  <tbody>\n",
       "    <tr>\n",
       "      <th>count</th>\n",
       "      <td>1757.000000</td>\n",
       "      <td>1757.000000</td>\n",
       "      <td>1757.000000</td>\n",
       "      <td>1757.000000</td>\n",
       "      <td>1757.000000</td>\n",
       "      <td>1757.000000</td>\n",
       "      <td>1757.000000</td>\n",
       "      <td>1757.000000</td>\n",
       "      <td>1757.000000</td>\n",
       "      <td>1757.000000</td>\n",
       "      <td>...</td>\n",
       "      <td>1757.000000</td>\n",
       "      <td>1757.000000</td>\n",
       "      <td>1757.000000</td>\n",
       "      <td>1757.000000</td>\n",
       "      <td>1757.000000</td>\n",
       "      <td>1757.000000</td>\n",
       "      <td>1757.000000</td>\n",
       "      <td>1757.000000</td>\n",
       "      <td>340.000000</td>\n",
       "      <td>1757.000000</td>\n",
       "    </tr>\n",
       "    <tr>\n",
       "      <th>mean</th>\n",
       "      <td>31.523051</td>\n",
       "      <td>16.513375</td>\n",
       "      <td>103.542402</td>\n",
       "      <td>103.542459</td>\n",
       "      <td>0.493398</td>\n",
       "      <td>50.120489</td>\n",
       "      <td>50.312806</td>\n",
       "      <td>18.591804</td>\n",
       "      <td>18.521286</td>\n",
       "      <td>29.277120</td>\n",
       "      <td>...</td>\n",
       "      <td>35.097894</td>\n",
       "      <td>35.373307</td>\n",
       "      <td>49.135970</td>\n",
       "      <td>49.298065</td>\n",
       "      <td>34.563517</td>\n",
       "      <td>34.744792</td>\n",
       "      <td>68.422254</td>\n",
       "      <td>-7.837109</td>\n",
       "      <td>8.791176</td>\n",
       "      <td>2017.002277</td>\n",
       "    </tr>\n",
       "    <tr>\n",
       "      <th>std</th>\n",
       "      <td>2.602819</td>\n",
       "      <td>6.545571</td>\n",
       "      <td>7.304975</td>\n",
       "      <td>6.472676</td>\n",
       "      <td>0.255291</td>\n",
       "      <td>3.130430</td>\n",
       "      <td>2.859604</td>\n",
       "      <td>1.991637</td>\n",
       "      <td>2.108968</td>\n",
       "      <td>4.101782</td>\n",
       "      <td>...</td>\n",
       "      <td>4.884599</td>\n",
       "      <td>5.900935</td>\n",
       "      <td>3.422136</td>\n",
       "      <td>3.288265</td>\n",
       "      <td>2.742323</td>\n",
       "      <td>2.369727</td>\n",
       "      <td>3.258920</td>\n",
       "      <td>6.988694</td>\n",
       "      <td>4.674090</td>\n",
       "      <td>1.415419</td>\n",
       "    </tr>\n",
       "    <tr>\n",
       "      <th>min</th>\n",
       "      <td>24.000000</td>\n",
       "      <td>0.000000</td>\n",
       "      <td>76.700000</td>\n",
       "      <td>84.000000</td>\n",
       "      <td>0.007700</td>\n",
       "      <td>39.400000</td>\n",
       "      <td>39.600000</td>\n",
       "      <td>12.400000</td>\n",
       "      <td>10.200000</td>\n",
       "      <td>15.000000</td>\n",
       "      <td>...</td>\n",
       "      <td>21.600000</td>\n",
       "      <td>21.800000</td>\n",
       "      <td>37.700000</td>\n",
       "      <td>37.700000</td>\n",
       "      <td>25.200000</td>\n",
       "      <td>27.100000</td>\n",
       "      <td>57.200000</td>\n",
       "      <td>-25.200000</td>\n",
       "      <td>1.000000</td>\n",
       "      <td>2015.000000</td>\n",
       "    </tr>\n",
       "    <tr>\n",
       "      <th>25%</th>\n",
       "      <td>30.000000</td>\n",
       "      <td>12.000000</td>\n",
       "      <td>98.600000</td>\n",
       "      <td>98.900000</td>\n",
       "      <td>0.283700</td>\n",
       "      <td>48.100000</td>\n",
       "      <td>48.400000</td>\n",
       "      <td>17.200000</td>\n",
       "      <td>17.100000</td>\n",
       "      <td>26.600000</td>\n",
       "      <td>...</td>\n",
       "      <td>31.700000</td>\n",
       "      <td>31.200000</td>\n",
       "      <td>46.900000</td>\n",
       "      <td>47.100000</td>\n",
       "      <td>32.600000</td>\n",
       "      <td>33.100000</td>\n",
       "      <td>66.400000</td>\n",
       "      <td>-13.000000</td>\n",
       "      <td>5.000000</td>\n",
       "      <td>2016.000000</td>\n",
       "    </tr>\n",
       "    <tr>\n",
       "      <th>50%</th>\n",
       "      <td>31.000000</td>\n",
       "      <td>16.000000</td>\n",
       "      <td>103.100000</td>\n",
       "      <td>103.800000</td>\n",
       "      <td>0.474000</td>\n",
       "      <td>50.000000</td>\n",
       "      <td>50.300000</td>\n",
       "      <td>18.500000</td>\n",
       "      <td>18.500000</td>\n",
       "      <td>29.400000</td>\n",
       "      <td>...</td>\n",
       "      <td>34.900000</td>\n",
       "      <td>34.900000</td>\n",
       "      <td>49.000000</td>\n",
       "      <td>49.300000</td>\n",
       "      <td>34.600000</td>\n",
       "      <td>34.700000</td>\n",
       "      <td>68.500000</td>\n",
       "      <td>-8.400000</td>\n",
       "      <td>9.000000</td>\n",
       "      <td>2017.000000</td>\n",
       "    </tr>\n",
       "    <tr>\n",
       "      <th>75%</th>\n",
       "      <td>33.000000</td>\n",
       "      <td>21.000000</td>\n",
       "      <td>108.100000</td>\n",
       "      <td>108.000000</td>\n",
       "      <td>0.710600</td>\n",
       "      <td>52.100000</td>\n",
       "      <td>52.300000</td>\n",
       "      <td>19.800000</td>\n",
       "      <td>19.900000</td>\n",
       "      <td>31.900000</td>\n",
       "      <td>...</td>\n",
       "      <td>38.300000</td>\n",
       "      <td>39.200000</td>\n",
       "      <td>51.400000</td>\n",
       "      <td>51.500000</td>\n",
       "      <td>36.400000</td>\n",
       "      <td>36.300000</td>\n",
       "      <td>70.400000</td>\n",
       "      <td>-3.100000</td>\n",
       "      <td>13.000000</td>\n",
       "      <td>2018.000000</td>\n",
       "    </tr>\n",
       "    <tr>\n",
       "      <th>max</th>\n",
       "      <td>40.000000</td>\n",
       "      <td>38.000000</td>\n",
       "      <td>129.100000</td>\n",
       "      <td>124.000000</td>\n",
       "      <td>0.984200</td>\n",
       "      <td>59.800000</td>\n",
       "      <td>59.500000</td>\n",
       "      <td>26.100000</td>\n",
       "      <td>28.000000</td>\n",
       "      <td>42.100000</td>\n",
       "      <td>...</td>\n",
       "      <td>51.000000</td>\n",
       "      <td>58.500000</td>\n",
       "      <td>62.600000</td>\n",
       "      <td>61.200000</td>\n",
       "      <td>44.100000</td>\n",
       "      <td>43.100000</td>\n",
       "      <td>83.400000</td>\n",
       "      <td>13.100000</td>\n",
       "      <td>16.000000</td>\n",
       "      <td>2019.000000</td>\n",
       "    </tr>\n",
       "  </tbody>\n",
       "</table>\n",
       "<p>8 rows × 21 columns</p>\n",
       "</div>"
      ],
      "text/plain": [
       "                 G            W        ADJOE        ADJDE      BARTHAG  \\\n",
       "count  1757.000000  1757.000000  1757.000000  1757.000000  1757.000000   \n",
       "mean     31.523051    16.513375   103.542402   103.542459     0.493398   \n",
       "std       2.602819     6.545571     7.304975     6.472676     0.255291   \n",
       "min      24.000000     0.000000    76.700000    84.000000     0.007700   \n",
       "25%      30.000000    12.000000    98.600000    98.900000     0.283700   \n",
       "50%      31.000000    16.000000   103.100000   103.800000     0.474000   \n",
       "75%      33.000000    21.000000   108.100000   108.000000     0.710600   \n",
       "max      40.000000    38.000000   129.100000   124.000000     0.984200   \n",
       "\n",
       "             EFG_O        EFG_D          TOR         TORD          ORB  ...  \\\n",
       "count  1757.000000  1757.000000  1757.000000  1757.000000  1757.000000  ...   \n",
       "mean     50.120489    50.312806    18.591804    18.521286    29.277120  ...   \n",
       "std       3.130430     2.859604     1.991637     2.108968     4.101782  ...   \n",
       "min      39.400000    39.600000    12.400000    10.200000    15.000000  ...   \n",
       "25%      48.100000    48.400000    17.200000    17.100000    26.600000  ...   \n",
       "50%      50.000000    50.300000    18.500000    18.500000    29.400000  ...   \n",
       "75%      52.100000    52.300000    19.800000    19.900000    31.900000  ...   \n",
       "max      59.800000    59.500000    26.100000    28.000000    42.100000  ...   \n",
       "\n",
       "               FTR         FTRD         2P_O         2P_D         3P_O  \\\n",
       "count  1757.000000  1757.000000  1757.000000  1757.000000  1757.000000   \n",
       "mean     35.097894    35.373307    49.135970    49.298065    34.563517   \n",
       "std       4.884599     5.900935     3.422136     3.288265     2.742323   \n",
       "min      21.600000    21.800000    37.700000    37.700000    25.200000   \n",
       "25%      31.700000    31.200000    46.900000    47.100000    32.600000   \n",
       "50%      34.900000    34.900000    49.000000    49.300000    34.600000   \n",
       "75%      38.300000    39.200000    51.400000    51.500000    36.400000   \n",
       "max      51.000000    58.500000    62.600000    61.200000    44.100000   \n",
       "\n",
       "              3P_D        ADJ_T          WAB        SEED         YEAR  \n",
       "count  1757.000000  1757.000000  1757.000000  340.000000  1757.000000  \n",
       "mean     34.744792    68.422254    -7.837109    8.791176  2017.002277  \n",
       "std       2.369727     3.258920     6.988694    4.674090     1.415419  \n",
       "min      27.100000    57.200000   -25.200000    1.000000  2015.000000  \n",
       "25%      33.100000    66.400000   -13.000000    5.000000  2016.000000  \n",
       "50%      34.700000    68.500000    -8.400000    9.000000  2017.000000  \n",
       "75%      36.300000    70.400000    -3.100000   13.000000  2018.000000  \n",
       "max      43.100000    83.400000    13.100000   16.000000  2019.000000  \n",
       "\n",
       "[8 rows x 21 columns]"
      ]
     },
     "execution_count": 3,
     "metadata": {},
     "output_type": "execute_result"
    }
   ],
   "source": [
    "df.describe()"
   ]
  },
  {
   "cell_type": "code",
   "execution_count": 4,
   "metadata": {},
   "outputs": [
    {
     "name": "stdout",
     "output_type": "stream",
     "text": [
      "(1757, 24)\n"
     ]
    }
   ],
   "source": [
    "print(df.shape)"
   ]
  },
  {
   "cell_type": "code",
   "execution_count": 5,
   "metadata": {},
   "outputs": [
    {
     "name": "stdout",
     "output_type": "stream",
     "text": [
      "<class 'pandas.core.frame.DataFrame'>\n",
      "RangeIndex: 1757 entries, 0 to 1756\n",
      "Data columns (total 24 columns):\n",
      "TEAM          1757 non-null object\n",
      "CONF          1757 non-null object\n",
      "G             1757 non-null int64\n",
      "W             1757 non-null int64\n",
      "ADJOE         1757 non-null float64\n",
      "ADJDE         1757 non-null float64\n",
      "BARTHAG       1757 non-null float64\n",
      "EFG_O         1757 non-null float64\n",
      "EFG_D         1757 non-null float64\n",
      "TOR           1757 non-null float64\n",
      "TORD          1757 non-null float64\n",
      "ORB           1757 non-null float64\n",
      "DRB           1757 non-null float64\n",
      "FTR           1757 non-null float64\n",
      "FTRD          1757 non-null float64\n",
      "2P_O          1757 non-null float64\n",
      "2P_D          1757 non-null float64\n",
      "3P_O          1757 non-null float64\n",
      "3P_D          1757 non-null float64\n",
      "ADJ_T         1757 non-null float64\n",
      "WAB           1757 non-null float64\n",
      "POSTSEASON    340 non-null object\n",
      "SEED          340 non-null float64\n",
      "YEAR          1757 non-null int64\n",
      "dtypes: float64(18), int64(3), object(3)\n",
      "memory usage: 329.6+ KB\n",
      "None\n"
     ]
    }
   ],
   "source": [
    "print(df.info())"
   ]
  },
  {
   "cell_type": "markdown",
   "metadata": {},
   "source": [
    "### we can see dataset doesnot contain any null values"
   ]
  },
  {
   "cell_type": "code",
   "execution_count": 6,
   "metadata": {},
   "outputs": [
    {
     "data": {
      "text/plain": [
       "Index(['TEAM', 'CONF', 'G', 'W', 'ADJOE', 'ADJDE', 'BARTHAG', 'EFG_O', 'EFG_D',\n",
       "       'TOR', 'TORD', 'ORB', 'DRB', 'FTR', 'FTRD', '2P_O', '2P_D', '3P_O',\n",
       "       '3P_D', 'ADJ_T', 'WAB', 'POSTSEASON', 'SEED', 'YEAR'],\n",
       "      dtype='object')"
      ]
     },
     "execution_count": 6,
     "metadata": {},
     "output_type": "execute_result"
    }
   ],
   "source": [
    "df.columns"
   ]
  },
  {
   "cell_type": "markdown",
   "metadata": {},
   "source": [
    "#### Let us calculate Win / Gameplay ratio for each tuple"
   ]
  },
  {
   "cell_type": "code",
   "execution_count": 7,
   "metadata": {},
   "outputs": [],
   "source": [
    "df['W_ratio'] = df['W'] / df['G']"
   ]
  },
  {
   "cell_type": "code",
   "execution_count": 8,
   "metadata": {},
   "outputs": [
    {
     "data": {
      "text/html": [
       "<div>\n",
       "<style scoped>\n",
       "    .dataframe tbody tr th:only-of-type {\n",
       "        vertical-align: middle;\n",
       "    }\n",
       "\n",
       "    .dataframe tbody tr th {\n",
       "        vertical-align: top;\n",
       "    }\n",
       "\n",
       "    .dataframe thead th {\n",
       "        text-align: right;\n",
       "    }\n",
       "</style>\n",
       "<table border=\"1\" class=\"dataframe\">\n",
       "  <thead>\n",
       "    <tr style=\"text-align: right;\">\n",
       "      <th></th>\n",
       "      <th>TEAM</th>\n",
       "      <th>CONF</th>\n",
       "      <th>G</th>\n",
       "      <th>W</th>\n",
       "      <th>ADJOE</th>\n",
       "      <th>ADJDE</th>\n",
       "      <th>BARTHAG</th>\n",
       "      <th>EFG_O</th>\n",
       "      <th>EFG_D</th>\n",
       "      <th>TOR</th>\n",
       "      <th>...</th>\n",
       "      <th>2P_O</th>\n",
       "      <th>2P_D</th>\n",
       "      <th>3P_O</th>\n",
       "      <th>3P_D</th>\n",
       "      <th>ADJ_T</th>\n",
       "      <th>WAB</th>\n",
       "      <th>POSTSEASON</th>\n",
       "      <th>SEED</th>\n",
       "      <th>YEAR</th>\n",
       "      <th>W_ratio</th>\n",
       "    </tr>\n",
       "  </thead>\n",
       "  <tbody>\n",
       "    <tr>\n",
       "      <th>0</th>\n",
       "      <td>North Carolina</td>\n",
       "      <td>ACC</td>\n",
       "      <td>40</td>\n",
       "      <td>33</td>\n",
       "      <td>123.3</td>\n",
       "      <td>94.9</td>\n",
       "      <td>0.9531</td>\n",
       "      <td>52.6</td>\n",
       "      <td>48.1</td>\n",
       "      <td>15.4</td>\n",
       "      <td>...</td>\n",
       "      <td>53.9</td>\n",
       "      <td>44.6</td>\n",
       "      <td>32.7</td>\n",
       "      <td>36.2</td>\n",
       "      <td>71.7</td>\n",
       "      <td>8.6</td>\n",
       "      <td>2ND</td>\n",
       "      <td>1.0</td>\n",
       "      <td>2016</td>\n",
       "      <td>0.825000</td>\n",
       "    </tr>\n",
       "    <tr>\n",
       "      <th>1</th>\n",
       "      <td>Wisconsin</td>\n",
       "      <td>B10</td>\n",
       "      <td>40</td>\n",
       "      <td>36</td>\n",
       "      <td>129.1</td>\n",
       "      <td>93.6</td>\n",
       "      <td>0.9758</td>\n",
       "      <td>54.8</td>\n",
       "      <td>47.7</td>\n",
       "      <td>12.4</td>\n",
       "      <td>...</td>\n",
       "      <td>54.8</td>\n",
       "      <td>44.7</td>\n",
       "      <td>36.5</td>\n",
       "      <td>37.5</td>\n",
       "      <td>59.3</td>\n",
       "      <td>11.3</td>\n",
       "      <td>2ND</td>\n",
       "      <td>1.0</td>\n",
       "      <td>2015</td>\n",
       "      <td>0.900000</td>\n",
       "    </tr>\n",
       "    <tr>\n",
       "      <th>2</th>\n",
       "      <td>Michigan</td>\n",
       "      <td>B10</td>\n",
       "      <td>40</td>\n",
       "      <td>33</td>\n",
       "      <td>114.4</td>\n",
       "      <td>90.4</td>\n",
       "      <td>0.9375</td>\n",
       "      <td>53.9</td>\n",
       "      <td>47.7</td>\n",
       "      <td>14.0</td>\n",
       "      <td>...</td>\n",
       "      <td>54.7</td>\n",
       "      <td>46.8</td>\n",
       "      <td>35.2</td>\n",
       "      <td>33.2</td>\n",
       "      <td>65.9</td>\n",
       "      <td>6.9</td>\n",
       "      <td>2ND</td>\n",
       "      <td>3.0</td>\n",
       "      <td>2018</td>\n",
       "      <td>0.825000</td>\n",
       "    </tr>\n",
       "    <tr>\n",
       "      <th>3</th>\n",
       "      <td>Texas Tech</td>\n",
       "      <td>B12</td>\n",
       "      <td>38</td>\n",
       "      <td>31</td>\n",
       "      <td>115.2</td>\n",
       "      <td>85.2</td>\n",
       "      <td>0.9696</td>\n",
       "      <td>53.5</td>\n",
       "      <td>43.0</td>\n",
       "      <td>17.7</td>\n",
       "      <td>...</td>\n",
       "      <td>52.8</td>\n",
       "      <td>41.9</td>\n",
       "      <td>36.5</td>\n",
       "      <td>29.7</td>\n",
       "      <td>67.5</td>\n",
       "      <td>7.0</td>\n",
       "      <td>2ND</td>\n",
       "      <td>3.0</td>\n",
       "      <td>2019</td>\n",
       "      <td>0.815789</td>\n",
       "    </tr>\n",
       "    <tr>\n",
       "      <th>4</th>\n",
       "      <td>Gonzaga</td>\n",
       "      <td>WCC</td>\n",
       "      <td>39</td>\n",
       "      <td>37</td>\n",
       "      <td>117.8</td>\n",
       "      <td>86.3</td>\n",
       "      <td>0.9728</td>\n",
       "      <td>56.6</td>\n",
       "      <td>41.1</td>\n",
       "      <td>16.2</td>\n",
       "      <td>...</td>\n",
       "      <td>56.3</td>\n",
       "      <td>40.0</td>\n",
       "      <td>38.2</td>\n",
       "      <td>29.0</td>\n",
       "      <td>71.5</td>\n",
       "      <td>7.7</td>\n",
       "      <td>2ND</td>\n",
       "      <td>1.0</td>\n",
       "      <td>2017</td>\n",
       "      <td>0.948718</td>\n",
       "    </tr>\n",
       "  </tbody>\n",
       "</table>\n",
       "<p>5 rows × 25 columns</p>\n",
       "</div>"
      ],
      "text/plain": [
       "             TEAM CONF   G   W  ADJOE  ADJDE  BARTHAG  EFG_O  EFG_D   TOR  \\\n",
       "0  North Carolina  ACC  40  33  123.3   94.9   0.9531   52.6   48.1  15.4   \n",
       "1       Wisconsin  B10  40  36  129.1   93.6   0.9758   54.8   47.7  12.4   \n",
       "2        Michigan  B10  40  33  114.4   90.4   0.9375   53.9   47.7  14.0   \n",
       "3      Texas Tech  B12  38  31  115.2   85.2   0.9696   53.5   43.0  17.7   \n",
       "4         Gonzaga  WCC  39  37  117.8   86.3   0.9728   56.6   41.1  16.2   \n",
       "\n",
       "   ...  2P_O  2P_D  3P_O  3P_D  ADJ_T   WAB  POSTSEASON  SEED  YEAR   W_ratio  \n",
       "0  ...  53.9  44.6  32.7  36.2   71.7   8.6         2ND   1.0  2016  0.825000  \n",
       "1  ...  54.8  44.7  36.5  37.5   59.3  11.3         2ND   1.0  2015  0.900000  \n",
       "2  ...  54.7  46.8  35.2  33.2   65.9   6.9         2ND   3.0  2018  0.825000  \n",
       "3  ...  52.8  41.9  36.5  29.7   67.5   7.0         2ND   3.0  2019  0.815789  \n",
       "4  ...  56.3  40.0  38.2  29.0   71.5   7.7         2ND   1.0  2017  0.948718  \n",
       "\n",
       "[5 rows x 25 columns]"
      ]
     },
     "execution_count": 8,
     "metadata": {},
     "output_type": "execute_result"
    }
   ],
   "source": [
    "df.head()"
   ]
  },
  {
   "cell_type": "markdown",
   "metadata": {},
   "source": [
    "#### Suppose we have a task of pridicting Wining ratio of the team\n",
    "#### Now we will try to find out the relation of W_ratio with other parameters "
   ]
  },
  {
   "cell_type": "markdown",
   "metadata": {},
   "source": [
    "#### let's delete unnecessery columns like G,W"
   ]
  },
  {
   "cell_type": "code",
   "execution_count": 9,
   "metadata": {},
   "outputs": [],
   "source": [
    "del df['G']"
   ]
  },
  {
   "cell_type": "code",
   "execution_count": 10,
   "metadata": {},
   "outputs": [],
   "source": [
    "del df['W']"
   ]
  },
  {
   "cell_type": "code",
   "execution_count": 11,
   "metadata": {},
   "outputs": [
    {
     "data": {
      "text/plain": [
       "Index(['TEAM', 'CONF', 'ADJOE', 'ADJDE', 'BARTHAG', 'EFG_O', 'EFG_D', 'TOR',\n",
       "       'TORD', 'ORB', 'DRB', 'FTR', 'FTRD', '2P_O', '2P_D', '3P_O', '3P_D',\n",
       "       'ADJ_T', 'WAB', 'POSTSEASON', 'SEED', 'YEAR', 'W_ratio'],\n",
       "      dtype='object')"
      ]
     },
     "execution_count": 11,
     "metadata": {},
     "output_type": "execute_result"
    }
   ],
   "source": [
    "df.columns"
   ]
  },
  {
   "cell_type": "code",
   "execution_count": 12,
   "metadata": {},
   "outputs": [
    {
     "data": {
      "text/plain": [
       "(1757, 23)"
      ]
     },
     "execution_count": 12,
     "metadata": {},
     "output_type": "execute_result"
    }
   ],
   "source": [
    "df.shape"
   ]
  },
  {
   "cell_type": "code",
   "execution_count": 13,
   "metadata": {},
   "outputs": [
    {
     "data": {
      "text/html": [
       "<div>\n",
       "<style scoped>\n",
       "    .dataframe tbody tr th:only-of-type {\n",
       "        vertical-align: middle;\n",
       "    }\n",
       "\n",
       "    .dataframe tbody tr th {\n",
       "        vertical-align: top;\n",
       "    }\n",
       "\n",
       "    .dataframe thead th {\n",
       "        text-align: right;\n",
       "    }\n",
       "</style>\n",
       "<table border=\"1\" class=\"dataframe\">\n",
       "  <thead>\n",
       "    <tr style=\"text-align: right;\">\n",
       "      <th></th>\n",
       "      <th>TEAM</th>\n",
       "      <th>CONF</th>\n",
       "      <th>ADJOE</th>\n",
       "      <th>ADJDE</th>\n",
       "      <th>BARTHAG</th>\n",
       "      <th>EFG_O</th>\n",
       "      <th>EFG_D</th>\n",
       "      <th>TOR</th>\n",
       "      <th>TORD</th>\n",
       "      <th>ORB</th>\n",
       "      <th>...</th>\n",
       "      <th>2P_O</th>\n",
       "      <th>2P_D</th>\n",
       "      <th>3P_O</th>\n",
       "      <th>3P_D</th>\n",
       "      <th>ADJ_T</th>\n",
       "      <th>WAB</th>\n",
       "      <th>POSTSEASON</th>\n",
       "      <th>SEED</th>\n",
       "      <th>YEAR</th>\n",
       "      <th>W_ratio</th>\n",
       "    </tr>\n",
       "  </thead>\n",
       "  <tbody>\n",
       "    <tr>\n",
       "      <th>0</th>\n",
       "      <td>North Carolina</td>\n",
       "      <td>ACC</td>\n",
       "      <td>123.3</td>\n",
       "      <td>94.9</td>\n",
       "      <td>0.9531</td>\n",
       "      <td>52.6</td>\n",
       "      <td>48.1</td>\n",
       "      <td>15.4</td>\n",
       "      <td>18.2</td>\n",
       "      <td>40.7</td>\n",
       "      <td>...</td>\n",
       "      <td>53.9</td>\n",
       "      <td>44.6</td>\n",
       "      <td>32.7</td>\n",
       "      <td>36.2</td>\n",
       "      <td>71.7</td>\n",
       "      <td>8.6</td>\n",
       "      <td>2ND</td>\n",
       "      <td>1.0</td>\n",
       "      <td>2016</td>\n",
       "      <td>0.825000</td>\n",
       "    </tr>\n",
       "    <tr>\n",
       "      <th>1</th>\n",
       "      <td>Wisconsin</td>\n",
       "      <td>B10</td>\n",
       "      <td>129.1</td>\n",
       "      <td>93.6</td>\n",
       "      <td>0.9758</td>\n",
       "      <td>54.8</td>\n",
       "      <td>47.7</td>\n",
       "      <td>12.4</td>\n",
       "      <td>15.8</td>\n",
       "      <td>32.1</td>\n",
       "      <td>...</td>\n",
       "      <td>54.8</td>\n",
       "      <td>44.7</td>\n",
       "      <td>36.5</td>\n",
       "      <td>37.5</td>\n",
       "      <td>59.3</td>\n",
       "      <td>11.3</td>\n",
       "      <td>2ND</td>\n",
       "      <td>1.0</td>\n",
       "      <td>2015</td>\n",
       "      <td>0.900000</td>\n",
       "    </tr>\n",
       "    <tr>\n",
       "      <th>2</th>\n",
       "      <td>Michigan</td>\n",
       "      <td>B10</td>\n",
       "      <td>114.4</td>\n",
       "      <td>90.4</td>\n",
       "      <td>0.9375</td>\n",
       "      <td>53.9</td>\n",
       "      <td>47.7</td>\n",
       "      <td>14.0</td>\n",
       "      <td>19.5</td>\n",
       "      <td>25.5</td>\n",
       "      <td>...</td>\n",
       "      <td>54.7</td>\n",
       "      <td>46.8</td>\n",
       "      <td>35.2</td>\n",
       "      <td>33.2</td>\n",
       "      <td>65.9</td>\n",
       "      <td>6.9</td>\n",
       "      <td>2ND</td>\n",
       "      <td>3.0</td>\n",
       "      <td>2018</td>\n",
       "      <td>0.825000</td>\n",
       "    </tr>\n",
       "    <tr>\n",
       "      <th>3</th>\n",
       "      <td>Texas Tech</td>\n",
       "      <td>B12</td>\n",
       "      <td>115.2</td>\n",
       "      <td>85.2</td>\n",
       "      <td>0.9696</td>\n",
       "      <td>53.5</td>\n",
       "      <td>43.0</td>\n",
       "      <td>17.7</td>\n",
       "      <td>22.8</td>\n",
       "      <td>27.4</td>\n",
       "      <td>...</td>\n",
       "      <td>52.8</td>\n",
       "      <td>41.9</td>\n",
       "      <td>36.5</td>\n",
       "      <td>29.7</td>\n",
       "      <td>67.5</td>\n",
       "      <td>7.0</td>\n",
       "      <td>2ND</td>\n",
       "      <td>3.0</td>\n",
       "      <td>2019</td>\n",
       "      <td>0.815789</td>\n",
       "    </tr>\n",
       "    <tr>\n",
       "      <th>4</th>\n",
       "      <td>Gonzaga</td>\n",
       "      <td>WCC</td>\n",
       "      <td>117.8</td>\n",
       "      <td>86.3</td>\n",
       "      <td>0.9728</td>\n",
       "      <td>56.6</td>\n",
       "      <td>41.1</td>\n",
       "      <td>16.2</td>\n",
       "      <td>17.1</td>\n",
       "      <td>30.0</td>\n",
       "      <td>...</td>\n",
       "      <td>56.3</td>\n",
       "      <td>40.0</td>\n",
       "      <td>38.2</td>\n",
       "      <td>29.0</td>\n",
       "      <td>71.5</td>\n",
       "      <td>7.7</td>\n",
       "      <td>2ND</td>\n",
       "      <td>1.0</td>\n",
       "      <td>2017</td>\n",
       "      <td>0.948718</td>\n",
       "    </tr>\n",
       "    <tr>\n",
       "      <th>5</th>\n",
       "      <td>Duke</td>\n",
       "      <td>ACC</td>\n",
       "      <td>125.2</td>\n",
       "      <td>90.6</td>\n",
       "      <td>0.9764</td>\n",
       "      <td>56.6</td>\n",
       "      <td>46.5</td>\n",
       "      <td>16.3</td>\n",
       "      <td>18.6</td>\n",
       "      <td>35.8</td>\n",
       "      <td>...</td>\n",
       "      <td>55.9</td>\n",
       "      <td>46.3</td>\n",
       "      <td>38.7</td>\n",
       "      <td>31.4</td>\n",
       "      <td>66.4</td>\n",
       "      <td>10.7</td>\n",
       "      <td>Champions</td>\n",
       "      <td>1.0</td>\n",
       "      <td>2015</td>\n",
       "      <td>0.897436</td>\n",
       "    </tr>\n",
       "    <tr>\n",
       "      <th>6</th>\n",
       "      <td>Virginia</td>\n",
       "      <td>ACC</td>\n",
       "      <td>123.0</td>\n",
       "      <td>89.9</td>\n",
       "      <td>0.9736</td>\n",
       "      <td>55.2</td>\n",
       "      <td>44.7</td>\n",
       "      <td>14.7</td>\n",
       "      <td>17.5</td>\n",
       "      <td>30.4</td>\n",
       "      <td>...</td>\n",
       "      <td>52.5</td>\n",
       "      <td>45.7</td>\n",
       "      <td>39.5</td>\n",
       "      <td>28.9</td>\n",
       "      <td>60.7</td>\n",
       "      <td>11.1</td>\n",
       "      <td>Champions</td>\n",
       "      <td>1.0</td>\n",
       "      <td>2019</td>\n",
       "      <td>0.921053</td>\n",
       "    </tr>\n",
       "    <tr>\n",
       "      <th>7</th>\n",
       "      <td>North Carolina</td>\n",
       "      <td>ACC</td>\n",
       "      <td>121.0</td>\n",
       "      <td>91.5</td>\n",
       "      <td>0.9615</td>\n",
       "      <td>51.7</td>\n",
       "      <td>48.1</td>\n",
       "      <td>16.2</td>\n",
       "      <td>18.6</td>\n",
       "      <td>41.3</td>\n",
       "      <td>...</td>\n",
       "      <td>51.0</td>\n",
       "      <td>46.3</td>\n",
       "      <td>35.5</td>\n",
       "      <td>33.9</td>\n",
       "      <td>72.8</td>\n",
       "      <td>8.4</td>\n",
       "      <td>Champions</td>\n",
       "      <td>1.0</td>\n",
       "      <td>2017</td>\n",
       "      <td>0.846154</td>\n",
       "    </tr>\n",
       "    <tr>\n",
       "      <th>8</th>\n",
       "      <td>Villanova</td>\n",
       "      <td>BE</td>\n",
       "      <td>123.1</td>\n",
       "      <td>90.9</td>\n",
       "      <td>0.9703</td>\n",
       "      <td>56.1</td>\n",
       "      <td>46.7</td>\n",
       "      <td>16.3</td>\n",
       "      <td>20.6</td>\n",
       "      <td>28.2</td>\n",
       "      <td>...</td>\n",
       "      <td>57.4</td>\n",
       "      <td>44.1</td>\n",
       "      <td>36.2</td>\n",
       "      <td>33.9</td>\n",
       "      <td>66.7</td>\n",
       "      <td>8.9</td>\n",
       "      <td>Champions</td>\n",
       "      <td>2.0</td>\n",
       "      <td>2016</td>\n",
       "      <td>0.875000</td>\n",
       "    </tr>\n",
       "    <tr>\n",
       "      <th>9</th>\n",
       "      <td>Villanova</td>\n",
       "      <td>BE</td>\n",
       "      <td>128.4</td>\n",
       "      <td>94.1</td>\n",
       "      <td>0.9725</td>\n",
       "      <td>59.5</td>\n",
       "      <td>48.5</td>\n",
       "      <td>15.0</td>\n",
       "      <td>18.2</td>\n",
       "      <td>29.6</td>\n",
       "      <td>...</td>\n",
       "      <td>59.0</td>\n",
       "      <td>49.0</td>\n",
       "      <td>40.1</td>\n",
       "      <td>31.7</td>\n",
       "      <td>69.6</td>\n",
       "      <td>10.6</td>\n",
       "      <td>Champions</td>\n",
       "      <td>1.0</td>\n",
       "      <td>2018</td>\n",
       "      <td>0.900000</td>\n",
       "    </tr>\n",
       "    <tr>\n",
       "      <th>10</th>\n",
       "      <td>Louisville</td>\n",
       "      <td>ACC</td>\n",
       "      <td>109.4</td>\n",
       "      <td>87.4</td>\n",
       "      <td>0.9290</td>\n",
       "      <td>47.7</td>\n",
       "      <td>44.0</td>\n",
       "      <td>17.2</td>\n",
       "      <td>21.3</td>\n",
       "      <td>34.7</td>\n",
       "      <td>...</td>\n",
       "      <td>48.4</td>\n",
       "      <td>43.3</td>\n",
       "      <td>30.7</td>\n",
       "      <td>30.3</td>\n",
       "      <td>65.6</td>\n",
       "      <td>5.8</td>\n",
       "      <td>E8</td>\n",
       "      <td>4.0</td>\n",
       "      <td>2015</td>\n",
       "      <td>0.750000</td>\n",
       "    </tr>\n",
       "    <tr>\n",
       "      <th>11</th>\n",
       "      <td>Notre Dame</td>\n",
       "      <td>ACC</td>\n",
       "      <td>125.3</td>\n",
       "      <td>98.6</td>\n",
       "      <td>0.9401</td>\n",
       "      <td>58.3</td>\n",
       "      <td>47.9</td>\n",
       "      <td>14.5</td>\n",
       "      <td>17.3</td>\n",
       "      <td>27.9</td>\n",
       "      <td>...</td>\n",
       "      <td>58.2</td>\n",
       "      <td>47.4</td>\n",
       "      <td>39.0</td>\n",
       "      <td>32.6</td>\n",
       "      <td>63.9</td>\n",
       "      <td>8.6</td>\n",
       "      <td>E8</td>\n",
       "      <td>3.0</td>\n",
       "      <td>2015</td>\n",
       "      <td>0.842105</td>\n",
       "    </tr>\n",
       "    <tr>\n",
       "      <th>12</th>\n",
       "      <td>Notre Dame</td>\n",
       "      <td>ACC</td>\n",
       "      <td>118.3</td>\n",
       "      <td>103.3</td>\n",
       "      <td>0.8269</td>\n",
       "      <td>54.0</td>\n",
       "      <td>49.5</td>\n",
       "      <td>15.3</td>\n",
       "      <td>14.8</td>\n",
       "      <td>32.7</td>\n",
       "      <td>...</td>\n",
       "      <td>52.9</td>\n",
       "      <td>46.5</td>\n",
       "      <td>37.4</td>\n",
       "      <td>36.9</td>\n",
       "      <td>65.5</td>\n",
       "      <td>2.3</td>\n",
       "      <td>E8</td>\n",
       "      <td>6.0</td>\n",
       "      <td>2016</td>\n",
       "      <td>0.666667</td>\n",
       "    </tr>\n",
       "    <tr>\n",
       "      <th>13</th>\n",
       "      <td>Virginia</td>\n",
       "      <td>ACC</td>\n",
       "      <td>119.9</td>\n",
       "      <td>91.0</td>\n",
       "      <td>0.9600</td>\n",
       "      <td>54.8</td>\n",
       "      <td>48.4</td>\n",
       "      <td>15.1</td>\n",
       "      <td>18.8</td>\n",
       "      <td>29.9</td>\n",
       "      <td>...</td>\n",
       "      <td>52.6</td>\n",
       "      <td>46.3</td>\n",
       "      <td>40.3</td>\n",
       "      <td>34.7</td>\n",
       "      <td>61.9</td>\n",
       "      <td>8.6</td>\n",
       "      <td>E8</td>\n",
       "      <td>1.0</td>\n",
       "      <td>2016</td>\n",
       "      <td>0.783784</td>\n",
       "    </tr>\n",
       "    <tr>\n",
       "      <th>14</th>\n",
       "      <td>Duke</td>\n",
       "      <td>ACC</td>\n",
       "      <td>122.3</td>\n",
       "      <td>92.9</td>\n",
       "      <td>0.9592</td>\n",
       "      <td>55.9</td>\n",
       "      <td>46.4</td>\n",
       "      <td>17.5</td>\n",
       "      <td>17.3</td>\n",
       "      <td>38.8</td>\n",
       "      <td>...</td>\n",
       "      <td>56.0</td>\n",
       "      <td>45.4</td>\n",
       "      <td>37.2</td>\n",
       "      <td>32.0</td>\n",
       "      <td>70.9</td>\n",
       "      <td>6.6</td>\n",
       "      <td>E8</td>\n",
       "      <td>2.0</td>\n",
       "      <td>2018</td>\n",
       "      <td>0.783784</td>\n",
       "    </tr>\n",
       "    <tr>\n",
       "      <th>15</th>\n",
       "      <td>Florida St.</td>\n",
       "      <td>ACC</td>\n",
       "      <td>113.2</td>\n",
       "      <td>96.4</td>\n",
       "      <td>0.8631</td>\n",
       "      <td>53.2</td>\n",
       "      <td>48.4</td>\n",
       "      <td>17.8</td>\n",
       "      <td>19.4</td>\n",
       "      <td>32.3</td>\n",
       "      <td>...</td>\n",
       "      <td>53.6</td>\n",
       "      <td>45.4</td>\n",
       "      <td>35.0</td>\n",
       "      <td>35.5</td>\n",
       "      <td>72.5</td>\n",
       "      <td>0.9</td>\n",
       "      <td>E8</td>\n",
       "      <td>9.0</td>\n",
       "      <td>2018</td>\n",
       "      <td>0.657143</td>\n",
       "    </tr>\n",
       "    <tr>\n",
       "      <th>16</th>\n",
       "      <td>Duke</td>\n",
       "      <td>ACC</td>\n",
       "      <td>118.9</td>\n",
       "      <td>89.2</td>\n",
       "      <td>0.9646</td>\n",
       "      <td>53.6</td>\n",
       "      <td>45.0</td>\n",
       "      <td>17.5</td>\n",
       "      <td>19.4</td>\n",
       "      <td>35.6</td>\n",
       "      <td>...</td>\n",
       "      <td>58.0</td>\n",
       "      <td>45.0</td>\n",
       "      <td>30.8</td>\n",
       "      <td>29.9</td>\n",
       "      <td>73.6</td>\n",
       "      <td>11.2</td>\n",
       "      <td>E8</td>\n",
       "      <td>1.0</td>\n",
       "      <td>2019</td>\n",
       "      <td>0.842105</td>\n",
       "    </tr>\n",
       "    <tr>\n",
       "      <th>17</th>\n",
       "      <td>Purdue</td>\n",
       "      <td>B10</td>\n",
       "      <td>122.8</td>\n",
       "      <td>94.3</td>\n",
       "      <td>0.9539</td>\n",
       "      <td>53.6</td>\n",
       "      <td>49.0</td>\n",
       "      <td>15.8</td>\n",
       "      <td>18.6</td>\n",
       "      <td>34.5</td>\n",
       "      <td>...</td>\n",
       "      <td>51.5</td>\n",
       "      <td>47.2</td>\n",
       "      <td>37.4</td>\n",
       "      <td>34.2</td>\n",
       "      <td>67.0</td>\n",
       "      <td>6.1</td>\n",
       "      <td>E8</td>\n",
       "      <td>3.0</td>\n",
       "      <td>2019</td>\n",
       "      <td>0.722222</td>\n",
       "    </tr>\n",
       "    <tr>\n",
       "      <th>18</th>\n",
       "      <td>Kansas</td>\n",
       "      <td>B12</td>\n",
       "      <td>120.9</td>\n",
       "      <td>90.4</td>\n",
       "      <td>0.9662</td>\n",
       "      <td>55.7</td>\n",
       "      <td>45.1</td>\n",
       "      <td>17.8</td>\n",
       "      <td>18.5</td>\n",
       "      <td>32.2</td>\n",
       "      <td>...</td>\n",
       "      <td>52.7</td>\n",
       "      <td>43.4</td>\n",
       "      <td>41.3</td>\n",
       "      <td>32.5</td>\n",
       "      <td>70.1</td>\n",
       "      <td>11.6</td>\n",
       "      <td>E8</td>\n",
       "      <td>1.0</td>\n",
       "      <td>2016</td>\n",
       "      <td>0.864865</td>\n",
       "    </tr>\n",
       "    <tr>\n",
       "      <th>19</th>\n",
       "      <td>Kansas</td>\n",
       "      <td>B12</td>\n",
       "      <td>121.5</td>\n",
       "      <td>94.5</td>\n",
       "      <td>0.9472</td>\n",
       "      <td>56.1</td>\n",
       "      <td>48.1</td>\n",
       "      <td>17.6</td>\n",
       "      <td>18.6</td>\n",
       "      <td>34.1</td>\n",
       "      <td>...</td>\n",
       "      <td>53.6</td>\n",
       "      <td>45.3</td>\n",
       "      <td>40.4</td>\n",
       "      <td>35.6</td>\n",
       "      <td>71.4</td>\n",
       "      <td>11.0</td>\n",
       "      <td>E8</td>\n",
       "      <td>1.0</td>\n",
       "      <td>2017</td>\n",
       "      <td>0.861111</td>\n",
       "    </tr>\n",
       "  </tbody>\n",
       "</table>\n",
       "<p>20 rows × 23 columns</p>\n",
       "</div>"
      ],
      "text/plain": [
       "              TEAM CONF  ADJOE  ADJDE  BARTHAG  EFG_O  EFG_D   TOR  TORD  \\\n",
       "0   North Carolina  ACC  123.3   94.9   0.9531   52.6   48.1  15.4  18.2   \n",
       "1        Wisconsin  B10  129.1   93.6   0.9758   54.8   47.7  12.4  15.8   \n",
       "2         Michigan  B10  114.4   90.4   0.9375   53.9   47.7  14.0  19.5   \n",
       "3       Texas Tech  B12  115.2   85.2   0.9696   53.5   43.0  17.7  22.8   \n",
       "4          Gonzaga  WCC  117.8   86.3   0.9728   56.6   41.1  16.2  17.1   \n",
       "5             Duke  ACC  125.2   90.6   0.9764   56.6   46.5  16.3  18.6   \n",
       "6         Virginia  ACC  123.0   89.9   0.9736   55.2   44.7  14.7  17.5   \n",
       "7   North Carolina  ACC  121.0   91.5   0.9615   51.7   48.1  16.2  18.6   \n",
       "8        Villanova   BE  123.1   90.9   0.9703   56.1   46.7  16.3  20.6   \n",
       "9        Villanova   BE  128.4   94.1   0.9725   59.5   48.5  15.0  18.2   \n",
       "10      Louisville  ACC  109.4   87.4   0.9290   47.7   44.0  17.2  21.3   \n",
       "11      Notre Dame  ACC  125.3   98.6   0.9401   58.3   47.9  14.5  17.3   \n",
       "12      Notre Dame  ACC  118.3  103.3   0.8269   54.0   49.5  15.3  14.8   \n",
       "13        Virginia  ACC  119.9   91.0   0.9600   54.8   48.4  15.1  18.8   \n",
       "14            Duke  ACC  122.3   92.9   0.9592   55.9   46.4  17.5  17.3   \n",
       "15     Florida St.  ACC  113.2   96.4   0.8631   53.2   48.4  17.8  19.4   \n",
       "16            Duke  ACC  118.9   89.2   0.9646   53.6   45.0  17.5  19.4   \n",
       "17          Purdue  B10  122.8   94.3   0.9539   53.6   49.0  15.8  18.6   \n",
       "18          Kansas  B12  120.9   90.4   0.9662   55.7   45.1  17.8  18.5   \n",
       "19          Kansas  B12  121.5   94.5   0.9472   56.1   48.1  17.6  18.6   \n",
       "\n",
       "     ORB  ...  2P_O  2P_D  3P_O  3P_D  ADJ_T   WAB  POSTSEASON  SEED  YEAR  \\\n",
       "0   40.7  ...  53.9  44.6  32.7  36.2   71.7   8.6         2ND   1.0  2016   \n",
       "1   32.1  ...  54.8  44.7  36.5  37.5   59.3  11.3         2ND   1.0  2015   \n",
       "2   25.5  ...  54.7  46.8  35.2  33.2   65.9   6.9         2ND   3.0  2018   \n",
       "3   27.4  ...  52.8  41.9  36.5  29.7   67.5   7.0         2ND   3.0  2019   \n",
       "4   30.0  ...  56.3  40.0  38.2  29.0   71.5   7.7         2ND   1.0  2017   \n",
       "5   35.8  ...  55.9  46.3  38.7  31.4   66.4  10.7   Champions   1.0  2015   \n",
       "6   30.4  ...  52.5  45.7  39.5  28.9   60.7  11.1   Champions   1.0  2019   \n",
       "7   41.3  ...  51.0  46.3  35.5  33.9   72.8   8.4   Champions   1.0  2017   \n",
       "8   28.2  ...  57.4  44.1  36.2  33.9   66.7   8.9   Champions   2.0  2016   \n",
       "9   29.6  ...  59.0  49.0  40.1  31.7   69.6  10.6   Champions   1.0  2018   \n",
       "10  34.7  ...  48.4  43.3  30.7  30.3   65.6   5.8          E8   4.0  2015   \n",
       "11  27.9  ...  58.2  47.4  39.0  32.6   63.9   8.6          E8   3.0  2015   \n",
       "12  32.7  ...  52.9  46.5  37.4  36.9   65.5   2.3          E8   6.0  2016   \n",
       "13  29.9  ...  52.6  46.3  40.3  34.7   61.9   8.6          E8   1.0  2016   \n",
       "14  38.8  ...  56.0  45.4  37.2  32.0   70.9   6.6          E8   2.0  2018   \n",
       "15  32.3  ...  53.6  45.4  35.0  35.5   72.5   0.9          E8   9.0  2018   \n",
       "16  35.6  ...  58.0  45.0  30.8  29.9   73.6  11.2          E8   1.0  2019   \n",
       "17  34.5  ...  51.5  47.2  37.4  34.2   67.0   6.1          E8   3.0  2019   \n",
       "18  32.2  ...  52.7  43.4  41.3  32.5   70.1  11.6          E8   1.0  2016   \n",
       "19  34.1  ...  53.6  45.3  40.4  35.6   71.4  11.0          E8   1.0  2017   \n",
       "\n",
       "     W_ratio  \n",
       "0   0.825000  \n",
       "1   0.900000  \n",
       "2   0.825000  \n",
       "3   0.815789  \n",
       "4   0.948718  \n",
       "5   0.897436  \n",
       "6   0.921053  \n",
       "7   0.846154  \n",
       "8   0.875000  \n",
       "9   0.900000  \n",
       "10  0.750000  \n",
       "11  0.842105  \n",
       "12  0.666667  \n",
       "13  0.783784  \n",
       "14  0.783784  \n",
       "15  0.657143  \n",
       "16  0.842105  \n",
       "17  0.722222  \n",
       "18  0.864865  \n",
       "19  0.861111  \n",
       "\n",
       "[20 rows x 23 columns]"
      ]
     },
     "execution_count": 13,
     "metadata": {},
     "output_type": "execute_result"
    }
   ],
   "source": [
    "df.head(20)"
   ]
  },
  {
   "cell_type": "code",
   "execution_count": 14,
   "metadata": {},
   "outputs": [
    {
     "data": {
      "text/plain": [
       "array(['2ND', 'Champions', 'E8', 'F4', nan, 'R32', 'R64', 'R68', 'S16'],\n",
       "      dtype=object)"
      ]
     },
     "execution_count": 14,
     "metadata": {},
     "output_type": "execute_result"
    }
   ],
   "source": [
    "df['POSTSEASON'].unique()"
   ]
  },
  {
   "cell_type": "code",
   "execution_count": 16,
   "metadata": {},
   "outputs": [
    {
     "data": {
      "text/plain": [
       "R64          160\n",
       "R32           80\n",
       "S16           40\n",
       "R68           20\n",
       "E8            20\n",
       "F4            10\n",
       "2ND            5\n",
       "Champions      5\n",
       "Name: POSTSEASON, dtype: int64"
      ]
     },
     "execution_count": 16,
     "metadata": {},
     "output_type": "execute_result"
    }
   ],
   "source": [
    "df['POSTSEASON'].value_counts()"
   ]
  },
  {
   "cell_type": "markdown",
   "metadata": {},
   "source": [
    "### Since The 'POSTSEASON' colums is catagorical variable, we can map the values to numereric digits"
   ]
  },
  {
   "cell_type": "code",
   "execution_count": 17,
   "metadata": {},
   "outputs": [],
   "source": [
    "d = {'Champions' : 1, '2ND' : 2, 'F4' : 3, 'E8' : 8, 'R68' : 5, 'S16' : 5, 'R32' : 6, 'R64' : 7}\n",
    "df['POSTSEASON'] = df['POSTSEASON'].map(d)"
   ]
  },
  {
   "cell_type": "code",
   "execution_count": 18,
   "metadata": {},
   "outputs": [
    {
     "data": {
      "text/html": [
       "<div>\n",
       "<style scoped>\n",
       "    .dataframe tbody tr th:only-of-type {\n",
       "        vertical-align: middle;\n",
       "    }\n",
       "\n",
       "    .dataframe tbody tr th {\n",
       "        vertical-align: top;\n",
       "    }\n",
       "\n",
       "    .dataframe thead th {\n",
       "        text-align: right;\n",
       "    }\n",
       "</style>\n",
       "<table border=\"1\" class=\"dataframe\">\n",
       "  <thead>\n",
       "    <tr style=\"text-align: right;\">\n",
       "      <th></th>\n",
       "      <th>TEAM</th>\n",
       "      <th>CONF</th>\n",
       "      <th>ADJOE</th>\n",
       "      <th>ADJDE</th>\n",
       "      <th>BARTHAG</th>\n",
       "      <th>EFG_O</th>\n",
       "      <th>EFG_D</th>\n",
       "      <th>TOR</th>\n",
       "      <th>TORD</th>\n",
       "      <th>ORB</th>\n",
       "      <th>...</th>\n",
       "      <th>2P_O</th>\n",
       "      <th>2P_D</th>\n",
       "      <th>3P_O</th>\n",
       "      <th>3P_D</th>\n",
       "      <th>ADJ_T</th>\n",
       "      <th>WAB</th>\n",
       "      <th>POSTSEASON</th>\n",
       "      <th>SEED</th>\n",
       "      <th>YEAR</th>\n",
       "      <th>W_ratio</th>\n",
       "    </tr>\n",
       "  </thead>\n",
       "  <tbody>\n",
       "    <tr>\n",
       "      <th>0</th>\n",
       "      <td>North Carolina</td>\n",
       "      <td>ACC</td>\n",
       "      <td>123.3</td>\n",
       "      <td>94.9</td>\n",
       "      <td>0.9531</td>\n",
       "      <td>52.6</td>\n",
       "      <td>48.1</td>\n",
       "      <td>15.4</td>\n",
       "      <td>18.2</td>\n",
       "      <td>40.7</td>\n",
       "      <td>...</td>\n",
       "      <td>53.9</td>\n",
       "      <td>44.6</td>\n",
       "      <td>32.7</td>\n",
       "      <td>36.2</td>\n",
       "      <td>71.7</td>\n",
       "      <td>8.6</td>\n",
       "      <td>2.0</td>\n",
       "      <td>1.0</td>\n",
       "      <td>2016</td>\n",
       "      <td>0.825000</td>\n",
       "    </tr>\n",
       "    <tr>\n",
       "      <th>1</th>\n",
       "      <td>Wisconsin</td>\n",
       "      <td>B10</td>\n",
       "      <td>129.1</td>\n",
       "      <td>93.6</td>\n",
       "      <td>0.9758</td>\n",
       "      <td>54.8</td>\n",
       "      <td>47.7</td>\n",
       "      <td>12.4</td>\n",
       "      <td>15.8</td>\n",
       "      <td>32.1</td>\n",
       "      <td>...</td>\n",
       "      <td>54.8</td>\n",
       "      <td>44.7</td>\n",
       "      <td>36.5</td>\n",
       "      <td>37.5</td>\n",
       "      <td>59.3</td>\n",
       "      <td>11.3</td>\n",
       "      <td>2.0</td>\n",
       "      <td>1.0</td>\n",
       "      <td>2015</td>\n",
       "      <td>0.900000</td>\n",
       "    </tr>\n",
       "    <tr>\n",
       "      <th>2</th>\n",
       "      <td>Michigan</td>\n",
       "      <td>B10</td>\n",
       "      <td>114.4</td>\n",
       "      <td>90.4</td>\n",
       "      <td>0.9375</td>\n",
       "      <td>53.9</td>\n",
       "      <td>47.7</td>\n",
       "      <td>14.0</td>\n",
       "      <td>19.5</td>\n",
       "      <td>25.5</td>\n",
       "      <td>...</td>\n",
       "      <td>54.7</td>\n",
       "      <td>46.8</td>\n",
       "      <td>35.2</td>\n",
       "      <td>33.2</td>\n",
       "      <td>65.9</td>\n",
       "      <td>6.9</td>\n",
       "      <td>2.0</td>\n",
       "      <td>3.0</td>\n",
       "      <td>2018</td>\n",
       "      <td>0.825000</td>\n",
       "    </tr>\n",
       "    <tr>\n",
       "      <th>3</th>\n",
       "      <td>Texas Tech</td>\n",
       "      <td>B12</td>\n",
       "      <td>115.2</td>\n",
       "      <td>85.2</td>\n",
       "      <td>0.9696</td>\n",
       "      <td>53.5</td>\n",
       "      <td>43.0</td>\n",
       "      <td>17.7</td>\n",
       "      <td>22.8</td>\n",
       "      <td>27.4</td>\n",
       "      <td>...</td>\n",
       "      <td>52.8</td>\n",
       "      <td>41.9</td>\n",
       "      <td>36.5</td>\n",
       "      <td>29.7</td>\n",
       "      <td>67.5</td>\n",
       "      <td>7.0</td>\n",
       "      <td>2.0</td>\n",
       "      <td>3.0</td>\n",
       "      <td>2019</td>\n",
       "      <td>0.815789</td>\n",
       "    </tr>\n",
       "    <tr>\n",
       "      <th>4</th>\n",
       "      <td>Gonzaga</td>\n",
       "      <td>WCC</td>\n",
       "      <td>117.8</td>\n",
       "      <td>86.3</td>\n",
       "      <td>0.9728</td>\n",
       "      <td>56.6</td>\n",
       "      <td>41.1</td>\n",
       "      <td>16.2</td>\n",
       "      <td>17.1</td>\n",
       "      <td>30.0</td>\n",
       "      <td>...</td>\n",
       "      <td>56.3</td>\n",
       "      <td>40.0</td>\n",
       "      <td>38.2</td>\n",
       "      <td>29.0</td>\n",
       "      <td>71.5</td>\n",
       "      <td>7.7</td>\n",
       "      <td>2.0</td>\n",
       "      <td>1.0</td>\n",
       "      <td>2017</td>\n",
       "      <td>0.948718</td>\n",
       "    </tr>\n",
       "    <tr>\n",
       "      <th>5</th>\n",
       "      <td>Duke</td>\n",
       "      <td>ACC</td>\n",
       "      <td>125.2</td>\n",
       "      <td>90.6</td>\n",
       "      <td>0.9764</td>\n",
       "      <td>56.6</td>\n",
       "      <td>46.5</td>\n",
       "      <td>16.3</td>\n",
       "      <td>18.6</td>\n",
       "      <td>35.8</td>\n",
       "      <td>...</td>\n",
       "      <td>55.9</td>\n",
       "      <td>46.3</td>\n",
       "      <td>38.7</td>\n",
       "      <td>31.4</td>\n",
       "      <td>66.4</td>\n",
       "      <td>10.7</td>\n",
       "      <td>1.0</td>\n",
       "      <td>1.0</td>\n",
       "      <td>2015</td>\n",
       "      <td>0.897436</td>\n",
       "    </tr>\n",
       "    <tr>\n",
       "      <th>6</th>\n",
       "      <td>Virginia</td>\n",
       "      <td>ACC</td>\n",
       "      <td>123.0</td>\n",
       "      <td>89.9</td>\n",
       "      <td>0.9736</td>\n",
       "      <td>55.2</td>\n",
       "      <td>44.7</td>\n",
       "      <td>14.7</td>\n",
       "      <td>17.5</td>\n",
       "      <td>30.4</td>\n",
       "      <td>...</td>\n",
       "      <td>52.5</td>\n",
       "      <td>45.7</td>\n",
       "      <td>39.5</td>\n",
       "      <td>28.9</td>\n",
       "      <td>60.7</td>\n",
       "      <td>11.1</td>\n",
       "      <td>1.0</td>\n",
       "      <td>1.0</td>\n",
       "      <td>2019</td>\n",
       "      <td>0.921053</td>\n",
       "    </tr>\n",
       "    <tr>\n",
       "      <th>7</th>\n",
       "      <td>North Carolina</td>\n",
       "      <td>ACC</td>\n",
       "      <td>121.0</td>\n",
       "      <td>91.5</td>\n",
       "      <td>0.9615</td>\n",
       "      <td>51.7</td>\n",
       "      <td>48.1</td>\n",
       "      <td>16.2</td>\n",
       "      <td>18.6</td>\n",
       "      <td>41.3</td>\n",
       "      <td>...</td>\n",
       "      <td>51.0</td>\n",
       "      <td>46.3</td>\n",
       "      <td>35.5</td>\n",
       "      <td>33.9</td>\n",
       "      <td>72.8</td>\n",
       "      <td>8.4</td>\n",
       "      <td>1.0</td>\n",
       "      <td>1.0</td>\n",
       "      <td>2017</td>\n",
       "      <td>0.846154</td>\n",
       "    </tr>\n",
       "    <tr>\n",
       "      <th>8</th>\n",
       "      <td>Villanova</td>\n",
       "      <td>BE</td>\n",
       "      <td>123.1</td>\n",
       "      <td>90.9</td>\n",
       "      <td>0.9703</td>\n",
       "      <td>56.1</td>\n",
       "      <td>46.7</td>\n",
       "      <td>16.3</td>\n",
       "      <td>20.6</td>\n",
       "      <td>28.2</td>\n",
       "      <td>...</td>\n",
       "      <td>57.4</td>\n",
       "      <td>44.1</td>\n",
       "      <td>36.2</td>\n",
       "      <td>33.9</td>\n",
       "      <td>66.7</td>\n",
       "      <td>8.9</td>\n",
       "      <td>1.0</td>\n",
       "      <td>2.0</td>\n",
       "      <td>2016</td>\n",
       "      <td>0.875000</td>\n",
       "    </tr>\n",
       "    <tr>\n",
       "      <th>9</th>\n",
       "      <td>Villanova</td>\n",
       "      <td>BE</td>\n",
       "      <td>128.4</td>\n",
       "      <td>94.1</td>\n",
       "      <td>0.9725</td>\n",
       "      <td>59.5</td>\n",
       "      <td>48.5</td>\n",
       "      <td>15.0</td>\n",
       "      <td>18.2</td>\n",
       "      <td>29.6</td>\n",
       "      <td>...</td>\n",
       "      <td>59.0</td>\n",
       "      <td>49.0</td>\n",
       "      <td>40.1</td>\n",
       "      <td>31.7</td>\n",
       "      <td>69.6</td>\n",
       "      <td>10.6</td>\n",
       "      <td>1.0</td>\n",
       "      <td>1.0</td>\n",
       "      <td>2018</td>\n",
       "      <td>0.900000</td>\n",
       "    </tr>\n",
       "  </tbody>\n",
       "</table>\n",
       "<p>10 rows × 23 columns</p>\n",
       "</div>"
      ],
      "text/plain": [
       "             TEAM CONF  ADJOE  ADJDE  BARTHAG  EFG_O  EFG_D   TOR  TORD   ORB  \\\n",
       "0  North Carolina  ACC  123.3   94.9   0.9531   52.6   48.1  15.4  18.2  40.7   \n",
       "1       Wisconsin  B10  129.1   93.6   0.9758   54.8   47.7  12.4  15.8  32.1   \n",
       "2        Michigan  B10  114.4   90.4   0.9375   53.9   47.7  14.0  19.5  25.5   \n",
       "3      Texas Tech  B12  115.2   85.2   0.9696   53.5   43.0  17.7  22.8  27.4   \n",
       "4         Gonzaga  WCC  117.8   86.3   0.9728   56.6   41.1  16.2  17.1  30.0   \n",
       "5            Duke  ACC  125.2   90.6   0.9764   56.6   46.5  16.3  18.6  35.8   \n",
       "6        Virginia  ACC  123.0   89.9   0.9736   55.2   44.7  14.7  17.5  30.4   \n",
       "7  North Carolina  ACC  121.0   91.5   0.9615   51.7   48.1  16.2  18.6  41.3   \n",
       "8       Villanova   BE  123.1   90.9   0.9703   56.1   46.7  16.3  20.6  28.2   \n",
       "9       Villanova   BE  128.4   94.1   0.9725   59.5   48.5  15.0  18.2  29.6   \n",
       "\n",
       "   ...  2P_O  2P_D  3P_O  3P_D  ADJ_T   WAB  POSTSEASON  SEED  YEAR   W_ratio  \n",
       "0  ...  53.9  44.6  32.7  36.2   71.7   8.6         2.0   1.0  2016  0.825000  \n",
       "1  ...  54.8  44.7  36.5  37.5   59.3  11.3         2.0   1.0  2015  0.900000  \n",
       "2  ...  54.7  46.8  35.2  33.2   65.9   6.9         2.0   3.0  2018  0.825000  \n",
       "3  ...  52.8  41.9  36.5  29.7   67.5   7.0         2.0   3.0  2019  0.815789  \n",
       "4  ...  56.3  40.0  38.2  29.0   71.5   7.7         2.0   1.0  2017  0.948718  \n",
       "5  ...  55.9  46.3  38.7  31.4   66.4  10.7         1.0   1.0  2015  0.897436  \n",
       "6  ...  52.5  45.7  39.5  28.9   60.7  11.1         1.0   1.0  2019  0.921053  \n",
       "7  ...  51.0  46.3  35.5  33.9   72.8   8.4         1.0   1.0  2017  0.846154  \n",
       "8  ...  57.4  44.1  36.2  33.9   66.7   8.9         1.0   2.0  2016  0.875000  \n",
       "9  ...  59.0  49.0  40.1  31.7   69.6  10.6         1.0   1.0  2018  0.900000  \n",
       "\n",
       "[10 rows x 23 columns]"
      ]
     },
     "execution_count": 18,
     "metadata": {},
     "output_type": "execute_result"
    }
   ],
   "source": [
    "df.head(10)"
   ]
  },
  {
   "cell_type": "code",
   "execution_count": 19,
   "metadata": {},
   "outputs": [
    {
     "data": {
      "text/plain": [
       "ACC     75\n",
       "A10     70\n",
       "B10     70\n",
       "SEC     70\n",
       "CUSA    70\n",
       "Slnd    65\n",
       "MEAC    64\n",
       "OVC     60\n",
       "BSky    60\n",
       "P12     60\n",
       "MAC     60\n",
       "SB      58\n",
       "Amer    57\n",
       "MWC     55\n",
       "MAAC    55\n",
       "BSth    54\n",
       "B12     50\n",
       "CAA     50\n",
       "SWAC    50\n",
       "BE      50\n",
       "NEC     50\n",
       "MVC     50\n",
       "SC      50\n",
       "Pat     50\n",
       "WCC     50\n",
       "Horz    49\n",
       "AE      45\n",
       "BW      45\n",
       "Sum     43\n",
       "WAC     41\n",
       "ASun    40\n",
       "Ivy     40\n",
       "Ind      1\n",
       "Name: CONF, dtype: int64"
      ]
     },
     "execution_count": 19,
     "metadata": {},
     "output_type": "execute_result"
    }
   ],
   "source": [
    "df['CONF'].value_counts()"
   ]
  },
  {
   "cell_type": "code",
   "execution_count": 20,
   "metadata": {},
   "outputs": [],
   "source": [
    "df['Win_prob_.5'] = df['W_ratio'] >= 0.5"
   ]
  },
  {
   "cell_type": "code",
   "execution_count": 21,
   "metadata": {},
   "outputs": [
    {
     "data": {
      "text/html": [
       "<div>\n",
       "<style scoped>\n",
       "    .dataframe tbody tr th:only-of-type {\n",
       "        vertical-align: middle;\n",
       "    }\n",
       "\n",
       "    .dataframe tbody tr th {\n",
       "        vertical-align: top;\n",
       "    }\n",
       "\n",
       "    .dataframe thead th {\n",
       "        text-align: right;\n",
       "    }\n",
       "</style>\n",
       "<table border=\"1\" class=\"dataframe\">\n",
       "  <thead>\n",
       "    <tr style=\"text-align: right;\">\n",
       "      <th></th>\n",
       "      <th>TEAM</th>\n",
       "      <th>CONF</th>\n",
       "      <th>ADJOE</th>\n",
       "      <th>ADJDE</th>\n",
       "      <th>BARTHAG</th>\n",
       "      <th>EFG_O</th>\n",
       "      <th>EFG_D</th>\n",
       "      <th>TOR</th>\n",
       "      <th>TORD</th>\n",
       "      <th>ORB</th>\n",
       "      <th>...</th>\n",
       "      <th>2P_D</th>\n",
       "      <th>3P_O</th>\n",
       "      <th>3P_D</th>\n",
       "      <th>ADJ_T</th>\n",
       "      <th>WAB</th>\n",
       "      <th>POSTSEASON</th>\n",
       "      <th>SEED</th>\n",
       "      <th>YEAR</th>\n",
       "      <th>W_ratio</th>\n",
       "      <th>Win_prob_.5</th>\n",
       "    </tr>\n",
       "  </thead>\n",
       "  <tbody>\n",
       "    <tr>\n",
       "      <th>0</th>\n",
       "      <td>North Carolina</td>\n",
       "      <td>ACC</td>\n",
       "      <td>123.3</td>\n",
       "      <td>94.9</td>\n",
       "      <td>0.9531</td>\n",
       "      <td>52.6</td>\n",
       "      <td>48.1</td>\n",
       "      <td>15.4</td>\n",
       "      <td>18.2</td>\n",
       "      <td>40.7</td>\n",
       "      <td>...</td>\n",
       "      <td>44.6</td>\n",
       "      <td>32.7</td>\n",
       "      <td>36.2</td>\n",
       "      <td>71.7</td>\n",
       "      <td>8.6</td>\n",
       "      <td>2.0</td>\n",
       "      <td>1.0</td>\n",
       "      <td>2016</td>\n",
       "      <td>0.825000</td>\n",
       "      <td>True</td>\n",
       "    </tr>\n",
       "    <tr>\n",
       "      <th>1</th>\n",
       "      <td>Wisconsin</td>\n",
       "      <td>B10</td>\n",
       "      <td>129.1</td>\n",
       "      <td>93.6</td>\n",
       "      <td>0.9758</td>\n",
       "      <td>54.8</td>\n",
       "      <td>47.7</td>\n",
       "      <td>12.4</td>\n",
       "      <td>15.8</td>\n",
       "      <td>32.1</td>\n",
       "      <td>...</td>\n",
       "      <td>44.7</td>\n",
       "      <td>36.5</td>\n",
       "      <td>37.5</td>\n",
       "      <td>59.3</td>\n",
       "      <td>11.3</td>\n",
       "      <td>2.0</td>\n",
       "      <td>1.0</td>\n",
       "      <td>2015</td>\n",
       "      <td>0.900000</td>\n",
       "      <td>True</td>\n",
       "    </tr>\n",
       "    <tr>\n",
       "      <th>2</th>\n",
       "      <td>Michigan</td>\n",
       "      <td>B10</td>\n",
       "      <td>114.4</td>\n",
       "      <td>90.4</td>\n",
       "      <td>0.9375</td>\n",
       "      <td>53.9</td>\n",
       "      <td>47.7</td>\n",
       "      <td>14.0</td>\n",
       "      <td>19.5</td>\n",
       "      <td>25.5</td>\n",
       "      <td>...</td>\n",
       "      <td>46.8</td>\n",
       "      <td>35.2</td>\n",
       "      <td>33.2</td>\n",
       "      <td>65.9</td>\n",
       "      <td>6.9</td>\n",
       "      <td>2.0</td>\n",
       "      <td>3.0</td>\n",
       "      <td>2018</td>\n",
       "      <td>0.825000</td>\n",
       "      <td>True</td>\n",
       "    </tr>\n",
       "    <tr>\n",
       "      <th>3</th>\n",
       "      <td>Texas Tech</td>\n",
       "      <td>B12</td>\n",
       "      <td>115.2</td>\n",
       "      <td>85.2</td>\n",
       "      <td>0.9696</td>\n",
       "      <td>53.5</td>\n",
       "      <td>43.0</td>\n",
       "      <td>17.7</td>\n",
       "      <td>22.8</td>\n",
       "      <td>27.4</td>\n",
       "      <td>...</td>\n",
       "      <td>41.9</td>\n",
       "      <td>36.5</td>\n",
       "      <td>29.7</td>\n",
       "      <td>67.5</td>\n",
       "      <td>7.0</td>\n",
       "      <td>2.0</td>\n",
       "      <td>3.0</td>\n",
       "      <td>2019</td>\n",
       "      <td>0.815789</td>\n",
       "      <td>True</td>\n",
       "    </tr>\n",
       "    <tr>\n",
       "      <th>4</th>\n",
       "      <td>Gonzaga</td>\n",
       "      <td>WCC</td>\n",
       "      <td>117.8</td>\n",
       "      <td>86.3</td>\n",
       "      <td>0.9728</td>\n",
       "      <td>56.6</td>\n",
       "      <td>41.1</td>\n",
       "      <td>16.2</td>\n",
       "      <td>17.1</td>\n",
       "      <td>30.0</td>\n",
       "      <td>...</td>\n",
       "      <td>40.0</td>\n",
       "      <td>38.2</td>\n",
       "      <td>29.0</td>\n",
       "      <td>71.5</td>\n",
       "      <td>7.7</td>\n",
       "      <td>2.0</td>\n",
       "      <td>1.0</td>\n",
       "      <td>2017</td>\n",
       "      <td>0.948718</td>\n",
       "      <td>True</td>\n",
       "    </tr>\n",
       "    <tr>\n",
       "      <th>5</th>\n",
       "      <td>Duke</td>\n",
       "      <td>ACC</td>\n",
       "      <td>125.2</td>\n",
       "      <td>90.6</td>\n",
       "      <td>0.9764</td>\n",
       "      <td>56.6</td>\n",
       "      <td>46.5</td>\n",
       "      <td>16.3</td>\n",
       "      <td>18.6</td>\n",
       "      <td>35.8</td>\n",
       "      <td>...</td>\n",
       "      <td>46.3</td>\n",
       "      <td>38.7</td>\n",
       "      <td>31.4</td>\n",
       "      <td>66.4</td>\n",
       "      <td>10.7</td>\n",
       "      <td>1.0</td>\n",
       "      <td>1.0</td>\n",
       "      <td>2015</td>\n",
       "      <td>0.897436</td>\n",
       "      <td>True</td>\n",
       "    </tr>\n",
       "    <tr>\n",
       "      <th>6</th>\n",
       "      <td>Virginia</td>\n",
       "      <td>ACC</td>\n",
       "      <td>123.0</td>\n",
       "      <td>89.9</td>\n",
       "      <td>0.9736</td>\n",
       "      <td>55.2</td>\n",
       "      <td>44.7</td>\n",
       "      <td>14.7</td>\n",
       "      <td>17.5</td>\n",
       "      <td>30.4</td>\n",
       "      <td>...</td>\n",
       "      <td>45.7</td>\n",
       "      <td>39.5</td>\n",
       "      <td>28.9</td>\n",
       "      <td>60.7</td>\n",
       "      <td>11.1</td>\n",
       "      <td>1.0</td>\n",
       "      <td>1.0</td>\n",
       "      <td>2019</td>\n",
       "      <td>0.921053</td>\n",
       "      <td>True</td>\n",
       "    </tr>\n",
       "    <tr>\n",
       "      <th>7</th>\n",
       "      <td>North Carolina</td>\n",
       "      <td>ACC</td>\n",
       "      <td>121.0</td>\n",
       "      <td>91.5</td>\n",
       "      <td>0.9615</td>\n",
       "      <td>51.7</td>\n",
       "      <td>48.1</td>\n",
       "      <td>16.2</td>\n",
       "      <td>18.6</td>\n",
       "      <td>41.3</td>\n",
       "      <td>...</td>\n",
       "      <td>46.3</td>\n",
       "      <td>35.5</td>\n",
       "      <td>33.9</td>\n",
       "      <td>72.8</td>\n",
       "      <td>8.4</td>\n",
       "      <td>1.0</td>\n",
       "      <td>1.0</td>\n",
       "      <td>2017</td>\n",
       "      <td>0.846154</td>\n",
       "      <td>True</td>\n",
       "    </tr>\n",
       "    <tr>\n",
       "      <th>8</th>\n",
       "      <td>Villanova</td>\n",
       "      <td>BE</td>\n",
       "      <td>123.1</td>\n",
       "      <td>90.9</td>\n",
       "      <td>0.9703</td>\n",
       "      <td>56.1</td>\n",
       "      <td>46.7</td>\n",
       "      <td>16.3</td>\n",
       "      <td>20.6</td>\n",
       "      <td>28.2</td>\n",
       "      <td>...</td>\n",
       "      <td>44.1</td>\n",
       "      <td>36.2</td>\n",
       "      <td>33.9</td>\n",
       "      <td>66.7</td>\n",
       "      <td>8.9</td>\n",
       "      <td>1.0</td>\n",
       "      <td>2.0</td>\n",
       "      <td>2016</td>\n",
       "      <td>0.875000</td>\n",
       "      <td>True</td>\n",
       "    </tr>\n",
       "    <tr>\n",
       "      <th>9</th>\n",
       "      <td>Villanova</td>\n",
       "      <td>BE</td>\n",
       "      <td>128.4</td>\n",
       "      <td>94.1</td>\n",
       "      <td>0.9725</td>\n",
       "      <td>59.5</td>\n",
       "      <td>48.5</td>\n",
       "      <td>15.0</td>\n",
       "      <td>18.2</td>\n",
       "      <td>29.6</td>\n",
       "      <td>...</td>\n",
       "      <td>49.0</td>\n",
       "      <td>40.1</td>\n",
       "      <td>31.7</td>\n",
       "      <td>69.6</td>\n",
       "      <td>10.6</td>\n",
       "      <td>1.0</td>\n",
       "      <td>1.0</td>\n",
       "      <td>2018</td>\n",
       "      <td>0.900000</td>\n",
       "      <td>True</td>\n",
       "    </tr>\n",
       "  </tbody>\n",
       "</table>\n",
       "<p>10 rows × 24 columns</p>\n",
       "</div>"
      ],
      "text/plain": [
       "             TEAM CONF  ADJOE  ADJDE  BARTHAG  EFG_O  EFG_D   TOR  TORD   ORB  \\\n",
       "0  North Carolina  ACC  123.3   94.9   0.9531   52.6   48.1  15.4  18.2  40.7   \n",
       "1       Wisconsin  B10  129.1   93.6   0.9758   54.8   47.7  12.4  15.8  32.1   \n",
       "2        Michigan  B10  114.4   90.4   0.9375   53.9   47.7  14.0  19.5  25.5   \n",
       "3      Texas Tech  B12  115.2   85.2   0.9696   53.5   43.0  17.7  22.8  27.4   \n",
       "4         Gonzaga  WCC  117.8   86.3   0.9728   56.6   41.1  16.2  17.1  30.0   \n",
       "5            Duke  ACC  125.2   90.6   0.9764   56.6   46.5  16.3  18.6  35.8   \n",
       "6        Virginia  ACC  123.0   89.9   0.9736   55.2   44.7  14.7  17.5  30.4   \n",
       "7  North Carolina  ACC  121.0   91.5   0.9615   51.7   48.1  16.2  18.6  41.3   \n",
       "8       Villanova   BE  123.1   90.9   0.9703   56.1   46.7  16.3  20.6  28.2   \n",
       "9       Villanova   BE  128.4   94.1   0.9725   59.5   48.5  15.0  18.2  29.6   \n",
       "\n",
       "   ...  2P_D  3P_O  3P_D  ADJ_T   WAB  POSTSEASON  SEED  YEAR   W_ratio  \\\n",
       "0  ...  44.6  32.7  36.2   71.7   8.6         2.0   1.0  2016  0.825000   \n",
       "1  ...  44.7  36.5  37.5   59.3  11.3         2.0   1.0  2015  0.900000   \n",
       "2  ...  46.8  35.2  33.2   65.9   6.9         2.0   3.0  2018  0.825000   \n",
       "3  ...  41.9  36.5  29.7   67.5   7.0         2.0   3.0  2019  0.815789   \n",
       "4  ...  40.0  38.2  29.0   71.5   7.7         2.0   1.0  2017  0.948718   \n",
       "5  ...  46.3  38.7  31.4   66.4  10.7         1.0   1.0  2015  0.897436   \n",
       "6  ...  45.7  39.5  28.9   60.7  11.1         1.0   1.0  2019  0.921053   \n",
       "7  ...  46.3  35.5  33.9   72.8   8.4         1.0   1.0  2017  0.846154   \n",
       "8  ...  44.1  36.2  33.9   66.7   8.9         1.0   2.0  2016  0.875000   \n",
       "9  ...  49.0  40.1  31.7   69.6  10.6         1.0   1.0  2018  0.900000   \n",
       "\n",
       "   Win_prob_.5  \n",
       "0         True  \n",
       "1         True  \n",
       "2         True  \n",
       "3         True  \n",
       "4         True  \n",
       "5         True  \n",
       "6         True  \n",
       "7         True  \n",
       "8         True  \n",
       "9         True  \n",
       "\n",
       "[10 rows x 24 columns]"
      ]
     },
     "execution_count": 21,
     "metadata": {},
     "output_type": "execute_result"
    }
   ],
   "source": [
    "df.head(10)"
   ]
  },
  {
   "cell_type": "code",
   "execution_count": 22,
   "metadata": {},
   "outputs": [
    {
     "data": {
      "text/plain": [
       "True     991\n",
       "False    766\n",
       "Name: Win_prob_.5, dtype: int64"
      ]
     },
     "execution_count": 22,
     "metadata": {},
     "output_type": "execute_result"
    }
   ],
   "source": [
    "df['Win_prob_.5'].value_counts()"
   ]
  },
  {
   "cell_type": "code",
   "execution_count": 23,
   "metadata": {},
   "outputs": [
    {
     "data": {
      "text/html": [
       "<div>\n",
       "<style scoped>\n",
       "    .dataframe tbody tr th:only-of-type {\n",
       "        vertical-align: middle;\n",
       "    }\n",
       "\n",
       "    .dataframe tbody tr th {\n",
       "        vertical-align: top;\n",
       "    }\n",
       "\n",
       "    .dataframe thead th {\n",
       "        text-align: right;\n",
       "    }\n",
       "</style>\n",
       "<table border=\"1\" class=\"dataframe\">\n",
       "  <thead>\n",
       "    <tr style=\"text-align: right;\">\n",
       "      <th></th>\n",
       "      <th>ADJOE</th>\n",
       "      <th>ADJDE</th>\n",
       "      <th>BARTHAG</th>\n",
       "      <th>EFG_O</th>\n",
       "      <th>EFG_D</th>\n",
       "      <th>TOR</th>\n",
       "      <th>TORD</th>\n",
       "      <th>ORB</th>\n",
       "      <th>DRB</th>\n",
       "      <th>FTR</th>\n",
       "      <th>...</th>\n",
       "      <th>2P_D</th>\n",
       "      <th>3P_O</th>\n",
       "      <th>3P_D</th>\n",
       "      <th>ADJ_T</th>\n",
       "      <th>WAB</th>\n",
       "      <th>POSTSEASON</th>\n",
       "      <th>SEED</th>\n",
       "      <th>YEAR</th>\n",
       "      <th>W_ratio</th>\n",
       "      <th>Win_prob_.5</th>\n",
       "    </tr>\n",
       "  </thead>\n",
       "  <tbody>\n",
       "    <tr>\n",
       "      <th>ADJOE</th>\n",
       "      <td>1.000000</td>\n",
       "      <td>-0.528576</td>\n",
       "      <td>0.870686</td>\n",
       "      <td>0.732683</td>\n",
       "      <td>-0.333693</td>\n",
       "      <td>-0.601024</td>\n",
       "      <td>-0.116231</td>\n",
       "      <td>0.261351</td>\n",
       "      <td>-0.266665</td>\n",
       "      <td>0.063637</td>\n",
       "      <td>...</td>\n",
       "      <td>-0.328822</td>\n",
       "      <td>0.579193</td>\n",
       "      <td>-0.198275</td>\n",
       "      <td>0.070476</td>\n",
       "      <td>0.851663</td>\n",
       "      <td>-0.306311</td>\n",
       "      <td>-0.791692</td>\n",
       "      <td>0.048861</td>\n",
       "      <td>0.714593</td>\n",
       "      <td>0.574322</td>\n",
       "    </tr>\n",
       "    <tr>\n",
       "      <th>ADJDE</th>\n",
       "      <td>-0.528576</td>\n",
       "      <td>1.000000</td>\n",
       "      <td>-0.852432</td>\n",
       "      <td>-0.221381</td>\n",
       "      <td>0.792320</td>\n",
       "      <td>0.219779</td>\n",
       "      <td>-0.234615</td>\n",
       "      <td>-0.294066</td>\n",
       "      <td>0.347646</td>\n",
       "      <td>-0.125265</td>\n",
       "      <td>...</td>\n",
       "      <td>0.728488</td>\n",
       "      <td>-0.102715</td>\n",
       "      <td>0.564135</td>\n",
       "      <td>0.227852</td>\n",
       "      <td>-0.809486</td>\n",
       "      <td>0.252723</td>\n",
       "      <td>0.706046</td>\n",
       "      <td>0.055367</td>\n",
       "      <td>-0.646726</td>\n",
       "      <td>-0.530396</td>\n",
       "    </tr>\n",
       "    <tr>\n",
       "      <th>BARTHAG</th>\n",
       "      <td>0.870686</td>\n",
       "      <td>-0.852432</td>\n",
       "      <td>1.000000</td>\n",
       "      <td>0.543153</td>\n",
       "      <td>-0.627696</td>\n",
       "      <td>-0.472329</td>\n",
       "      <td>0.054377</td>\n",
       "      <td>0.310917</td>\n",
       "      <td>-0.337804</td>\n",
       "      <td>0.112072</td>\n",
       "      <td>...</td>\n",
       "      <td>-0.588121</td>\n",
       "      <td>0.386597</td>\n",
       "      <td>-0.427750</td>\n",
       "      <td>-0.079611</td>\n",
       "      <td>0.941776</td>\n",
       "      <td>-0.243800</td>\n",
       "      <td>-0.832709</td>\n",
       "      <td>0.000228</td>\n",
       "      <td>0.771483</td>\n",
       "      <td>0.653168</td>\n",
       "    </tr>\n",
       "    <tr>\n",
       "      <th>EFG_O</th>\n",
       "      <td>0.732683</td>\n",
       "      <td>-0.221381</td>\n",
       "      <td>0.543153</td>\n",
       "      <td>1.000000</td>\n",
       "      <td>-0.120335</td>\n",
       "      <td>-0.367975</td>\n",
       "      <td>-0.144287</td>\n",
       "      <td>-0.147990</td>\n",
       "      <td>-0.319901</td>\n",
       "      <td>-0.083514</td>\n",
       "      <td>...</td>\n",
       "      <td>-0.104079</td>\n",
       "      <td>0.763028</td>\n",
       "      <td>-0.100545</td>\n",
       "      <td>0.120142</td>\n",
       "      <td>0.562904</td>\n",
       "      <td>-0.127836</td>\n",
       "      <td>-0.275137</td>\n",
       "      <td>0.196195</td>\n",
       "      <td>0.631026</td>\n",
       "      <td>0.509999</td>\n",
       "    </tr>\n",
       "    <tr>\n",
       "      <th>EFG_D</th>\n",
       "      <td>-0.333693</td>\n",
       "      <td>0.792320</td>\n",
       "      <td>-0.627696</td>\n",
       "      <td>-0.120335</td>\n",
       "      <td>1.000000</td>\n",
       "      <td>0.101070</td>\n",
       "      <td>-0.020831</td>\n",
       "      <td>-0.341636</td>\n",
       "      <td>0.172261</td>\n",
       "      <td>-0.205807</td>\n",
       "      <td>...</td>\n",
       "      <td>0.907933</td>\n",
       "      <td>-0.043770</td>\n",
       "      <td>0.722404</td>\n",
       "      <td>0.273412</td>\n",
       "      <td>-0.629864</td>\n",
       "      <td>0.170716</td>\n",
       "      <td>0.386928</td>\n",
       "      <td>0.211657</td>\n",
       "      <td>-0.584527</td>\n",
       "      <td>-0.497915</td>\n",
       "    </tr>\n",
       "    <tr>\n",
       "      <th>TOR</th>\n",
       "      <td>-0.601024</td>\n",
       "      <td>0.219779</td>\n",
       "      <td>-0.472329</td>\n",
       "      <td>-0.367975</td>\n",
       "      <td>0.101070</td>\n",
       "      <td>1.000000</td>\n",
       "      <td>0.103437</td>\n",
       "      <td>0.134433</td>\n",
       "      <td>0.188585</td>\n",
       "      <td>0.161369</td>\n",
       "      <td>...</td>\n",
       "      <td>0.091686</td>\n",
       "      <td>-0.333397</td>\n",
       "      <td>0.066363</td>\n",
       "      <td>-0.102687</td>\n",
       "      <td>-0.470286</td>\n",
       "      <td>0.143744</td>\n",
       "      <td>0.291587</td>\n",
       "      <td>-0.054840</td>\n",
       "      <td>-0.455757</td>\n",
       "      <td>-0.342572</td>\n",
       "    </tr>\n",
       "    <tr>\n",
       "      <th>TORD</th>\n",
       "      <td>-0.116231</td>\n",
       "      <td>-0.234615</td>\n",
       "      <td>0.054377</td>\n",
       "      <td>-0.144287</td>\n",
       "      <td>-0.020831</td>\n",
       "      <td>0.103437</td>\n",
       "      <td>1.000000</td>\n",
       "      <td>0.118496</td>\n",
       "      <td>0.289078</td>\n",
       "      <td>0.111844</td>\n",
       "      <td>...</td>\n",
       "      <td>0.027203</td>\n",
       "      <td>-0.177276</td>\n",
       "      <td>-0.106798</td>\n",
       "      <td>-0.065216</td>\n",
       "      <td>0.094765</td>\n",
       "      <td>-0.045561</td>\n",
       "      <td>0.057411</td>\n",
       "      <td>-0.051754</td>\n",
       "      <td>0.149150</td>\n",
       "      <td>0.101584</td>\n",
       "    </tr>\n",
       "    <tr>\n",
       "      <th>ORB</th>\n",
       "      <td>0.261351</td>\n",
       "      <td>-0.294066</td>\n",
       "      <td>0.310917</td>\n",
       "      <td>-0.147990</td>\n",
       "      <td>-0.341636</td>\n",
       "      <td>0.134433</td>\n",
       "      <td>0.118496</td>\n",
       "      <td>1.000000</td>\n",
       "      <td>0.018964</td>\n",
       "      <td>0.280598</td>\n",
       "      <td>...</td>\n",
       "      <td>-0.341291</td>\n",
       "      <td>-0.143735</td>\n",
       "      <td>-0.197189</td>\n",
       "      <td>-0.105308</td>\n",
       "      <td>0.332275</td>\n",
       "      <td>-0.067820</td>\n",
       "      <td>-0.314659</td>\n",
       "      <td>-0.217610</td>\n",
       "      <td>0.274567</td>\n",
       "      <td>0.223911</td>\n",
       "    </tr>\n",
       "    <tr>\n",
       "      <th>DRB</th>\n",
       "      <td>-0.266665</td>\n",
       "      <td>0.347646</td>\n",
       "      <td>-0.337804</td>\n",
       "      <td>-0.319901</td>\n",
       "      <td>0.172261</td>\n",
       "      <td>0.188585</td>\n",
       "      <td>0.289078</td>\n",
       "      <td>0.018964</td>\n",
       "      <td>1.000000</td>\n",
       "      <td>0.082964</td>\n",
       "      <td>...</td>\n",
       "      <td>0.183057</td>\n",
       "      <td>-0.225528</td>\n",
       "      <td>0.090050</td>\n",
       "      <td>0.032497</td>\n",
       "      <td>-0.303666</td>\n",
       "      <td>-0.032488</td>\n",
       "      <td>0.114416</td>\n",
       "      <td>-0.297920</td>\n",
       "      <td>-0.385050</td>\n",
       "      <td>-0.304715</td>\n",
       "    </tr>\n",
       "    <tr>\n",
       "      <th>FTR</th>\n",
       "      <td>0.063637</td>\n",
       "      <td>-0.125265</td>\n",
       "      <td>0.112072</td>\n",
       "      <td>-0.083514</td>\n",
       "      <td>-0.205807</td>\n",
       "      <td>0.161369</td>\n",
       "      <td>0.111844</td>\n",
       "      <td>0.280598</td>\n",
       "      <td>0.082964</td>\n",
       "      <td>1.000000</td>\n",
       "      <td>...</td>\n",
       "      <td>-0.202888</td>\n",
       "      <td>-0.093085</td>\n",
       "      <td>-0.108273</td>\n",
       "      <td>0.039090</td>\n",
       "      <td>0.146079</td>\n",
       "      <td>0.128262</td>\n",
       "      <td>0.091152</td>\n",
       "      <td>-0.326780</td>\n",
       "      <td>0.127031</td>\n",
       "      <td>0.135968</td>\n",
       "    </tr>\n",
       "    <tr>\n",
       "      <th>FTRD</th>\n",
       "      <td>-0.382290</td>\n",
       "      <td>0.180823</td>\n",
       "      <td>-0.327932</td>\n",
       "      <td>-0.404445</td>\n",
       "      <td>0.107161</td>\n",
       "      <td>0.316898</td>\n",
       "      <td>0.392412</td>\n",
       "      <td>0.136233</td>\n",
       "      <td>0.235665</td>\n",
       "      <td>0.203173</td>\n",
       "      <td>...</td>\n",
       "      <td>0.088794</td>\n",
       "      <td>-0.267869</td>\n",
       "      <td>0.103091</td>\n",
       "      <td>-0.000793</td>\n",
       "      <td>-0.333798</td>\n",
       "      <td>0.097603</td>\n",
       "      <td>0.250020</td>\n",
       "      <td>-0.273743</td>\n",
       "      <td>-0.308289</td>\n",
       "      <td>-0.253597</td>\n",
       "    </tr>\n",
       "    <tr>\n",
       "      <th>2P_O</th>\n",
       "      <td>0.646011</td>\n",
       "      <td>-0.251354</td>\n",
       "      <td>0.512045</td>\n",
       "      <td>0.893530</td>\n",
       "      <td>-0.148439</td>\n",
       "      <td>-0.288945</td>\n",
       "      <td>-0.079076</td>\n",
       "      <td>-0.091259</td>\n",
       "      <td>-0.299565</td>\n",
       "      <td>-0.040561</td>\n",
       "      <td>...</td>\n",
       "      <td>-0.119930</td>\n",
       "      <td>0.402768</td>\n",
       "      <td>-0.138731</td>\n",
       "      <td>0.163304</td>\n",
       "      <td>0.530586</td>\n",
       "      <td>-0.108714</td>\n",
       "      <td>-0.235655</td>\n",
       "      <td>0.245197</td>\n",
       "      <td>0.596497</td>\n",
       "      <td>0.479898</td>\n",
       "    </tr>\n",
       "    <tr>\n",
       "      <th>2P_D</th>\n",
       "      <td>-0.328822</td>\n",
       "      <td>0.728488</td>\n",
       "      <td>-0.588121</td>\n",
       "      <td>-0.104079</td>\n",
       "      <td>0.907933</td>\n",
       "      <td>0.091686</td>\n",
       "      <td>0.027203</td>\n",
       "      <td>-0.341291</td>\n",
       "      <td>0.183057</td>\n",
       "      <td>-0.202888</td>\n",
       "      <td>...</td>\n",
       "      <td>1.000000</td>\n",
       "      <td>-0.053283</td>\n",
       "      <td>0.373182</td>\n",
       "      <td>0.283103</td>\n",
       "      <td>-0.574111</td>\n",
       "      <td>0.102960</td>\n",
       "      <td>0.391802</td>\n",
       "      <td>0.253167</td>\n",
       "      <td>-0.501639</td>\n",
       "      <td>-0.429721</td>\n",
       "    </tr>\n",
       "    <tr>\n",
       "      <th>3P_O</th>\n",
       "      <td>0.579193</td>\n",
       "      <td>-0.102715</td>\n",
       "      <td>0.386597</td>\n",
       "      <td>0.763028</td>\n",
       "      <td>-0.043770</td>\n",
       "      <td>-0.333397</td>\n",
       "      <td>-0.177276</td>\n",
       "      <td>-0.143735</td>\n",
       "      <td>-0.225528</td>\n",
       "      <td>-0.093085</td>\n",
       "      <td>...</td>\n",
       "      <td>-0.053283</td>\n",
       "      <td>1.000000</td>\n",
       "      <td>-0.009907</td>\n",
       "      <td>0.017151</td>\n",
       "      <td>0.403304</td>\n",
       "      <td>-0.084072</td>\n",
       "      <td>-0.220968</td>\n",
       "      <td>0.034529</td>\n",
       "      <td>0.444663</td>\n",
       "      <td>0.362785</td>\n",
       "    </tr>\n",
       "    <tr>\n",
       "      <th>3P_D</th>\n",
       "      <td>-0.198275</td>\n",
       "      <td>0.564135</td>\n",
       "      <td>-0.427750</td>\n",
       "      <td>-0.100545</td>\n",
       "      <td>0.722404</td>\n",
       "      <td>0.066363</td>\n",
       "      <td>-0.106798</td>\n",
       "      <td>-0.197189</td>\n",
       "      <td>0.090050</td>\n",
       "      <td>-0.108273</td>\n",
       "      <td>...</td>\n",
       "      <td>0.373182</td>\n",
       "      <td>-0.009907</td>\n",
       "      <td>1.000000</td>\n",
       "      <td>0.141897</td>\n",
       "      <td>-0.455148</td>\n",
       "      <td>0.175141</td>\n",
       "      <td>0.157616</td>\n",
       "      <td>0.024843</td>\n",
       "      <td>-0.477568</td>\n",
       "      <td>-0.404776</td>\n",
       "    </tr>\n",
       "    <tr>\n",
       "      <th>ADJ_T</th>\n",
       "      <td>0.070476</td>\n",
       "      <td>0.227852</td>\n",
       "      <td>-0.079611</td>\n",
       "      <td>0.120142</td>\n",
       "      <td>0.273412</td>\n",
       "      <td>-0.102687</td>\n",
       "      <td>-0.065216</td>\n",
       "      <td>-0.105308</td>\n",
       "      <td>0.032497</td>\n",
       "      <td>0.039090</td>\n",
       "      <td>...</td>\n",
       "      <td>0.283103</td>\n",
       "      <td>0.017151</td>\n",
       "      <td>0.141897</td>\n",
       "      <td>1.000000</td>\n",
       "      <td>-0.056011</td>\n",
       "      <td>0.049954</td>\n",
       "      <td>0.043924</td>\n",
       "      <td>0.380953</td>\n",
       "      <td>-0.005526</td>\n",
       "      <td>-0.000653</td>\n",
       "    </tr>\n",
       "    <tr>\n",
       "      <th>WAB</th>\n",
       "      <td>0.851663</td>\n",
       "      <td>-0.809486</td>\n",
       "      <td>0.941776</td>\n",
       "      <td>0.562904</td>\n",
       "      <td>-0.629864</td>\n",
       "      <td>-0.470286</td>\n",
       "      <td>0.094765</td>\n",
       "      <td>0.332275</td>\n",
       "      <td>-0.303666</td>\n",
       "      <td>0.146079</td>\n",
       "      <td>...</td>\n",
       "      <td>-0.574111</td>\n",
       "      <td>0.403304</td>\n",
       "      <td>-0.455148</td>\n",
       "      <td>-0.056011</td>\n",
       "      <td>1.000000</td>\n",
       "      <td>-0.294505</td>\n",
       "      <td>-0.922111</td>\n",
       "      <td>-0.003705</td>\n",
       "      <td>0.876036</td>\n",
       "      <td>0.711725</td>\n",
       "    </tr>\n",
       "    <tr>\n",
       "      <th>POSTSEASON</th>\n",
       "      <td>-0.306311</td>\n",
       "      <td>0.252723</td>\n",
       "      <td>-0.243800</td>\n",
       "      <td>-0.127836</td>\n",
       "      <td>0.170716</td>\n",
       "      <td>0.143744</td>\n",
       "      <td>-0.045561</td>\n",
       "      <td>-0.067820</td>\n",
       "      <td>-0.032488</td>\n",
       "      <td>0.128262</td>\n",
       "      <td>...</td>\n",
       "      <td>0.102960</td>\n",
       "      <td>-0.084072</td>\n",
       "      <td>0.175141</td>\n",
       "      <td>0.049954</td>\n",
       "      <td>-0.294505</td>\n",
       "      <td>1.000000</td>\n",
       "      <td>0.313202</td>\n",
       "      <td>0.000000</td>\n",
       "      <td>-0.213070</td>\n",
       "      <td>-0.067418</td>\n",
       "    </tr>\n",
       "    <tr>\n",
       "      <th>SEED</th>\n",
       "      <td>-0.791692</td>\n",
       "      <td>0.706046</td>\n",
       "      <td>-0.832709</td>\n",
       "      <td>-0.275137</td>\n",
       "      <td>0.386928</td>\n",
       "      <td>0.291587</td>\n",
       "      <td>0.057411</td>\n",
       "      <td>-0.314659</td>\n",
       "      <td>0.114416</td>\n",
       "      <td>0.091152</td>\n",
       "      <td>...</td>\n",
       "      <td>0.391802</td>\n",
       "      <td>-0.220968</td>\n",
       "      <td>0.157616</td>\n",
       "      <td>0.043924</td>\n",
       "      <td>-0.922111</td>\n",
       "      <td>0.313202</td>\n",
       "      <td>1.000000</td>\n",
       "      <td>0.000446</td>\n",
       "      <td>-0.433264</td>\n",
       "      <td>-0.168526</td>\n",
       "    </tr>\n",
       "    <tr>\n",
       "      <th>YEAR</th>\n",
       "      <td>0.048861</td>\n",
       "      <td>0.055367</td>\n",
       "      <td>0.000228</td>\n",
       "      <td>0.196195</td>\n",
       "      <td>0.211657</td>\n",
       "      <td>-0.054840</td>\n",
       "      <td>-0.051754</td>\n",
       "      <td>-0.217610</td>\n",
       "      <td>-0.297920</td>\n",
       "      <td>-0.326780</td>\n",
       "      <td>...</td>\n",
       "      <td>0.253167</td>\n",
       "      <td>0.034529</td>\n",
       "      <td>0.024843</td>\n",
       "      <td>0.380953</td>\n",
       "      <td>-0.003705</td>\n",
       "      <td>0.000000</td>\n",
       "      <td>0.000446</td>\n",
       "      <td>1.000000</td>\n",
       "      <td>0.100674</td>\n",
       "      <td>0.078471</td>\n",
       "    </tr>\n",
       "    <tr>\n",
       "      <th>W_ratio</th>\n",
       "      <td>0.714593</td>\n",
       "      <td>-0.646726</td>\n",
       "      <td>0.771483</td>\n",
       "      <td>0.631026</td>\n",
       "      <td>-0.584527</td>\n",
       "      <td>-0.455757</td>\n",
       "      <td>0.149150</td>\n",
       "      <td>0.274567</td>\n",
       "      <td>-0.385050</td>\n",
       "      <td>0.127031</td>\n",
       "      <td>...</td>\n",
       "      <td>-0.501639</td>\n",
       "      <td>0.444663</td>\n",
       "      <td>-0.477568</td>\n",
       "      <td>-0.005526</td>\n",
       "      <td>0.876036</td>\n",
       "      <td>-0.213070</td>\n",
       "      <td>-0.433264</td>\n",
       "      <td>0.100674</td>\n",
       "      <td>1.000000</td>\n",
       "      <td>0.818449</td>\n",
       "    </tr>\n",
       "    <tr>\n",
       "      <th>Win_prob_.5</th>\n",
       "      <td>0.574322</td>\n",
       "      <td>-0.530396</td>\n",
       "      <td>0.653168</td>\n",
       "      <td>0.509999</td>\n",
       "      <td>-0.497915</td>\n",
       "      <td>-0.342572</td>\n",
       "      <td>0.101584</td>\n",
       "      <td>0.223911</td>\n",
       "      <td>-0.304715</td>\n",
       "      <td>0.135968</td>\n",
       "      <td>...</td>\n",
       "      <td>-0.429721</td>\n",
       "      <td>0.362785</td>\n",
       "      <td>-0.404776</td>\n",
       "      <td>-0.000653</td>\n",
       "      <td>0.711725</td>\n",
       "      <td>-0.067418</td>\n",
       "      <td>-0.168526</td>\n",
       "      <td>0.078471</td>\n",
       "      <td>0.818449</td>\n",
       "      <td>1.000000</td>\n",
       "    </tr>\n",
       "  </tbody>\n",
       "</table>\n",
       "<p>22 rows × 22 columns</p>\n",
       "</div>"
      ],
      "text/plain": [
       "                ADJOE     ADJDE   BARTHAG     EFG_O     EFG_D       TOR  \\\n",
       "ADJOE        1.000000 -0.528576  0.870686  0.732683 -0.333693 -0.601024   \n",
       "ADJDE       -0.528576  1.000000 -0.852432 -0.221381  0.792320  0.219779   \n",
       "BARTHAG      0.870686 -0.852432  1.000000  0.543153 -0.627696 -0.472329   \n",
       "EFG_O        0.732683 -0.221381  0.543153  1.000000 -0.120335 -0.367975   \n",
       "EFG_D       -0.333693  0.792320 -0.627696 -0.120335  1.000000  0.101070   \n",
       "TOR         -0.601024  0.219779 -0.472329 -0.367975  0.101070  1.000000   \n",
       "TORD        -0.116231 -0.234615  0.054377 -0.144287 -0.020831  0.103437   \n",
       "ORB          0.261351 -0.294066  0.310917 -0.147990 -0.341636  0.134433   \n",
       "DRB         -0.266665  0.347646 -0.337804 -0.319901  0.172261  0.188585   \n",
       "FTR          0.063637 -0.125265  0.112072 -0.083514 -0.205807  0.161369   \n",
       "FTRD        -0.382290  0.180823 -0.327932 -0.404445  0.107161  0.316898   \n",
       "2P_O         0.646011 -0.251354  0.512045  0.893530 -0.148439 -0.288945   \n",
       "2P_D        -0.328822  0.728488 -0.588121 -0.104079  0.907933  0.091686   \n",
       "3P_O         0.579193 -0.102715  0.386597  0.763028 -0.043770 -0.333397   \n",
       "3P_D        -0.198275  0.564135 -0.427750 -0.100545  0.722404  0.066363   \n",
       "ADJ_T        0.070476  0.227852 -0.079611  0.120142  0.273412 -0.102687   \n",
       "WAB          0.851663 -0.809486  0.941776  0.562904 -0.629864 -0.470286   \n",
       "POSTSEASON  -0.306311  0.252723 -0.243800 -0.127836  0.170716  0.143744   \n",
       "SEED        -0.791692  0.706046 -0.832709 -0.275137  0.386928  0.291587   \n",
       "YEAR         0.048861  0.055367  0.000228  0.196195  0.211657 -0.054840   \n",
       "W_ratio      0.714593 -0.646726  0.771483  0.631026 -0.584527 -0.455757   \n",
       "Win_prob_.5  0.574322 -0.530396  0.653168  0.509999 -0.497915 -0.342572   \n",
       "\n",
       "                 TORD       ORB       DRB       FTR  ...      2P_D      3P_O  \\\n",
       "ADJOE       -0.116231  0.261351 -0.266665  0.063637  ... -0.328822  0.579193   \n",
       "ADJDE       -0.234615 -0.294066  0.347646 -0.125265  ...  0.728488 -0.102715   \n",
       "BARTHAG      0.054377  0.310917 -0.337804  0.112072  ... -0.588121  0.386597   \n",
       "EFG_O       -0.144287 -0.147990 -0.319901 -0.083514  ... -0.104079  0.763028   \n",
       "EFG_D       -0.020831 -0.341636  0.172261 -0.205807  ...  0.907933 -0.043770   \n",
       "TOR          0.103437  0.134433  0.188585  0.161369  ...  0.091686 -0.333397   \n",
       "TORD         1.000000  0.118496  0.289078  0.111844  ...  0.027203 -0.177276   \n",
       "ORB          0.118496  1.000000  0.018964  0.280598  ... -0.341291 -0.143735   \n",
       "DRB          0.289078  0.018964  1.000000  0.082964  ...  0.183057 -0.225528   \n",
       "FTR          0.111844  0.280598  0.082964  1.000000  ... -0.202888 -0.093085   \n",
       "FTRD         0.392412  0.136233  0.235665  0.203173  ...  0.088794 -0.267869   \n",
       "2P_O        -0.079076 -0.091259 -0.299565 -0.040561  ... -0.119930  0.402768   \n",
       "2P_D         0.027203 -0.341291  0.183057 -0.202888  ...  1.000000 -0.053283   \n",
       "3P_O        -0.177276 -0.143735 -0.225528 -0.093085  ... -0.053283  1.000000   \n",
       "3P_D        -0.106798 -0.197189  0.090050 -0.108273  ...  0.373182 -0.009907   \n",
       "ADJ_T       -0.065216 -0.105308  0.032497  0.039090  ...  0.283103  0.017151   \n",
       "WAB          0.094765  0.332275 -0.303666  0.146079  ... -0.574111  0.403304   \n",
       "POSTSEASON  -0.045561 -0.067820 -0.032488  0.128262  ...  0.102960 -0.084072   \n",
       "SEED         0.057411 -0.314659  0.114416  0.091152  ...  0.391802 -0.220968   \n",
       "YEAR        -0.051754 -0.217610 -0.297920 -0.326780  ...  0.253167  0.034529   \n",
       "W_ratio      0.149150  0.274567 -0.385050  0.127031  ... -0.501639  0.444663   \n",
       "Win_prob_.5  0.101584  0.223911 -0.304715  0.135968  ... -0.429721  0.362785   \n",
       "\n",
       "                 3P_D     ADJ_T       WAB  POSTSEASON      SEED      YEAR  \\\n",
       "ADJOE       -0.198275  0.070476  0.851663   -0.306311 -0.791692  0.048861   \n",
       "ADJDE        0.564135  0.227852 -0.809486    0.252723  0.706046  0.055367   \n",
       "BARTHAG     -0.427750 -0.079611  0.941776   -0.243800 -0.832709  0.000228   \n",
       "EFG_O       -0.100545  0.120142  0.562904   -0.127836 -0.275137  0.196195   \n",
       "EFG_D        0.722404  0.273412 -0.629864    0.170716  0.386928  0.211657   \n",
       "TOR          0.066363 -0.102687 -0.470286    0.143744  0.291587 -0.054840   \n",
       "TORD        -0.106798 -0.065216  0.094765   -0.045561  0.057411 -0.051754   \n",
       "ORB         -0.197189 -0.105308  0.332275   -0.067820 -0.314659 -0.217610   \n",
       "DRB          0.090050  0.032497 -0.303666   -0.032488  0.114416 -0.297920   \n",
       "FTR         -0.108273  0.039090  0.146079    0.128262  0.091152 -0.326780   \n",
       "FTRD         0.103091 -0.000793 -0.333798    0.097603  0.250020 -0.273743   \n",
       "2P_O        -0.138731  0.163304  0.530586   -0.108714 -0.235655  0.245197   \n",
       "2P_D         0.373182  0.283103 -0.574111    0.102960  0.391802  0.253167   \n",
       "3P_O        -0.009907  0.017151  0.403304   -0.084072 -0.220968  0.034529   \n",
       "3P_D         1.000000  0.141897 -0.455148    0.175141  0.157616  0.024843   \n",
       "ADJ_T        0.141897  1.000000 -0.056011    0.049954  0.043924  0.380953   \n",
       "WAB         -0.455148 -0.056011  1.000000   -0.294505 -0.922111 -0.003705   \n",
       "POSTSEASON   0.175141  0.049954 -0.294505    1.000000  0.313202  0.000000   \n",
       "SEED         0.157616  0.043924 -0.922111    0.313202  1.000000  0.000446   \n",
       "YEAR         0.024843  0.380953 -0.003705    0.000000  0.000446  1.000000   \n",
       "W_ratio     -0.477568 -0.005526  0.876036   -0.213070 -0.433264  0.100674   \n",
       "Win_prob_.5 -0.404776 -0.000653  0.711725   -0.067418 -0.168526  0.078471   \n",
       "\n",
       "              W_ratio  Win_prob_.5  \n",
       "ADJOE        0.714593     0.574322  \n",
       "ADJDE       -0.646726    -0.530396  \n",
       "BARTHAG      0.771483     0.653168  \n",
       "EFG_O        0.631026     0.509999  \n",
       "EFG_D       -0.584527    -0.497915  \n",
       "TOR         -0.455757    -0.342572  \n",
       "TORD         0.149150     0.101584  \n",
       "ORB          0.274567     0.223911  \n",
       "DRB         -0.385050    -0.304715  \n",
       "FTR          0.127031     0.135968  \n",
       "FTRD        -0.308289    -0.253597  \n",
       "2P_O         0.596497     0.479898  \n",
       "2P_D        -0.501639    -0.429721  \n",
       "3P_O         0.444663     0.362785  \n",
       "3P_D        -0.477568    -0.404776  \n",
       "ADJ_T       -0.005526    -0.000653  \n",
       "WAB          0.876036     0.711725  \n",
       "POSTSEASON  -0.213070    -0.067418  \n",
       "SEED        -0.433264    -0.168526  \n",
       "YEAR         0.100674     0.078471  \n",
       "W_ratio      1.000000     0.818449  \n",
       "Win_prob_.5  0.818449     1.000000  \n",
       "\n",
       "[22 rows x 22 columns]"
      ]
     },
     "execution_count": 23,
     "metadata": {},
     "output_type": "execute_result"
    }
   ],
   "source": [
    "df.corr()"
   ]
  },
  {
   "cell_type": "code",
   "execution_count": 24,
   "metadata": {},
   "outputs": [
    {
     "data": {
      "text/html": [
       "<div>\n",
       "<style scoped>\n",
       "    .dataframe tbody tr th:only-of-type {\n",
       "        vertical-align: middle;\n",
       "    }\n",
       "\n",
       "    .dataframe tbody tr th {\n",
       "        vertical-align: top;\n",
       "    }\n",
       "\n",
       "    .dataframe thead th {\n",
       "        text-align: right;\n",
       "    }\n",
       "</style>\n",
       "<table border=\"1\" class=\"dataframe\">\n",
       "  <thead>\n",
       "    <tr style=\"text-align: right;\">\n",
       "      <th>POSTSEASON</th>\n",
       "      <th>1.0</th>\n",
       "      <th>2.0</th>\n",
       "      <th>3.0</th>\n",
       "      <th>5.0</th>\n",
       "      <th>6.0</th>\n",
       "      <th>7.0</th>\n",
       "      <th>8.0</th>\n",
       "    </tr>\n",
       "    <tr>\n",
       "      <th>Win_prob_.5</th>\n",
       "      <th></th>\n",
       "      <th></th>\n",
       "      <th></th>\n",
       "      <th></th>\n",
       "      <th></th>\n",
       "      <th></th>\n",
       "      <th></th>\n",
       "    </tr>\n",
       "  </thead>\n",
       "  <tbody>\n",
       "    <tr>\n",
       "      <th>False</th>\n",
       "      <td>0</td>\n",
       "      <td>0</td>\n",
       "      <td>0</td>\n",
       "      <td>0</td>\n",
       "      <td>0</td>\n",
       "      <td>4</td>\n",
       "      <td>0</td>\n",
       "    </tr>\n",
       "    <tr>\n",
       "      <th>True</th>\n",
       "      <td>5</td>\n",
       "      <td>5</td>\n",
       "      <td>10</td>\n",
       "      <td>60</td>\n",
       "      <td>80</td>\n",
       "      <td>156</td>\n",
       "      <td>20</td>\n",
       "    </tr>\n",
       "  </tbody>\n",
       "</table>\n",
       "</div>"
      ],
      "text/plain": [
       "POSTSEASON   1.0  2.0  3.0  5.0  6.0  7.0  8.0\n",
       "Win_prob_.5                                   \n",
       "False          0    0    0    0    0    4    0\n",
       "True           5    5   10   60   80  156   20"
      ]
     },
     "execution_count": 24,
     "metadata": {},
     "output_type": "execute_result"
    }
   ],
   "source": [
    "pd.crosstab(df['Win_prob_.5'], df['POSTSEASON'])"
   ]
  },
  {
   "cell_type": "markdown",
   "metadata": {},
   "source": [
    "* Champions : 1\n",
    "* 2ND : 2\n",
    "* F4 : 3\n",
    "* E8 : 4\n",
    "* R68 : 8\n",
    "* S16 : 5\n",
    "* R32 : 6\n",
    "* R64 : 7"
   ]
  },
  {
   "cell_type": "markdown",
   "metadata": {},
   "source": [
    "#### we can see that if team belong to R64 then its win probalility is less then .5"
   ]
  },
  {
   "cell_type": "code",
   "execution_count": 25,
   "metadata": {},
   "outputs": [],
   "source": [
    "corr_mat = df.corr()"
   ]
  },
  {
   "cell_type": "code",
   "execution_count": 26,
   "metadata": {},
   "outputs": [
    {
     "data": {
      "text/plain": [
       "ADJOE          0.574322\n",
       "ADJDE         -0.530396\n",
       "BARTHAG        0.653168\n",
       "EFG_O          0.509999\n",
       "EFG_D         -0.497915\n",
       "TOR           -0.342572\n",
       "TORD           0.101584\n",
       "ORB            0.223911\n",
       "DRB           -0.304715\n",
       "FTR            0.135968\n",
       "FTRD          -0.253597\n",
       "2P_O           0.479898\n",
       "2P_D          -0.429721\n",
       "3P_O           0.362785\n",
       "3P_D          -0.404776\n",
       "ADJ_T         -0.000653\n",
       "WAB            0.711725\n",
       "POSTSEASON    -0.067418\n",
       "SEED          -0.168526\n",
       "YEAR           0.078471\n",
       "W_ratio        0.818449\n",
       "Win_prob_.5    1.000000\n",
       "Name: Win_prob_.5, dtype: float64"
      ]
     },
     "execution_count": 26,
     "metadata": {},
     "output_type": "execute_result"
    }
   ],
   "source": [
    "corr_mat['Win_prob_.5']"
   ]
  },
  {
   "cell_type": "code",
   "execution_count": 27,
   "metadata": {},
   "outputs": [
    {
     "data": {
      "text/plain": [
       "<matplotlib.axes._subplots.AxesSubplot at 0x7f1395c4c5c0>"
      ]
     },
     "execution_count": 27,
     "metadata": {},
     "output_type": "execute_result"
    },
    {
     "data": {
      "image/png": "[encoded data removed]",
      "text/plain": [
       "<Figure size 1440x720 with 2 Axes>"
      ]
     },
     "metadata": {},
     "output_type": "display_data"
    }
   ],
   "source": [
    "plt.figure(figsize=(20,10))\n",
    "sns.heatmap(corr_mat)"
   ]
  },
  {
   "cell_type": "code",
   "execution_count": 28,
   "metadata": {},
   "outputs": [
    {
     "data": {
      "text/plain": [
       "ADJOE          0.714593\n",
       "ADJDE         -0.646726\n",
       "BARTHAG        0.771483\n",
       "EFG_O          0.631026\n",
       "EFG_D         -0.584527\n",
       "TOR           -0.455757\n",
       "TORD           0.149150\n",
       "ORB            0.274567\n",
       "DRB           -0.385050\n",
       "FTR            0.127031\n",
       "FTRD          -0.308289\n",
       "2P_O           0.596497\n",
       "2P_D          -0.501639\n",
       "3P_O           0.444663\n",
       "3P_D          -0.477568\n",
       "ADJ_T         -0.005526\n",
       "WAB            0.876036\n",
       "POSTSEASON    -0.213070\n",
       "SEED          -0.433264\n",
       "YEAR           0.100674\n",
       "W_ratio        1.000000\n",
       "Win_prob_.5    0.818449\n",
       "Name: W_ratio, dtype: float64"
      ]
     },
     "execution_count": 28,
     "metadata": {},
     "output_type": "execute_result"
    }
   ],
   "source": [
    "corr_mat['W_ratio']"
   ]
  },
  {
   "cell_type": "markdown",
   "metadata": {},
   "source": [
    "we can see that wining ration is highly dependent on ADJOE , BARTHAG , EFG_O , 2P_O , 3P_O"
   ]
  },
  {
   "cell_type": "code",
   "execution_count": 29,
   "metadata": {},
   "outputs": [
    {
     "data": {
      "text/plain": [
       "<matplotlib.axes._subplots.AxesSubplot at 0x7f1395bd5b00>"
      ]
     },
     "execution_count": 29,
     "metadata": {},
     "output_type": "execute_result"
    },
    {
     "data": {
      "image/png": "[encoded data removed]",
      "text/plain": [
       "<Figure size 432x288 with 1 Axes>"
      ]
     },
     "metadata": {},
     "output_type": "display_data"
    }
   ],
   "source": [
    "sns.distplot(df['ADJOE'])"
   ]
  },
  {
   "cell_type": "code",
   "execution_count": 30,
   "metadata": {},
   "outputs": [
    {
     "data": {
      "text/plain": [
       "<matplotlib.axes._subplots.AxesSubplot at 0x7f1393a786d8>"
      ]
     },
     "execution_count": 30,
     "metadata": {},
     "output_type": "execute_result"
    },
    {
     "data": {
      "image/png": "[encoded data removed]",
      "text/plain": [
       "<Figure size 432x288 with 1 Axes>"
      ]
     },
     "metadata": {},
     "output_type": "display_data"
    }
   ],
   "source": [
    "sns.boxplot(x = \"Win_prob_.5\", y = \"ADJOE\", data = df)"
   ]
  },
  {
   "cell_type": "markdown",
   "metadata": {},
   "source": [
    "#### we can see that Median of Adjusted Offensive Efficiency for wining teams are higher then that of Lossing teams"
   ]
  },
  {
   "cell_type": "code",
   "execution_count": 31,
   "metadata": {},
   "outputs": [
    {
     "data": {
      "text/plain": [
       "<matplotlib.axes._subplots.AxesSubplot at 0x7f13939f9da0>"
      ]
     },
     "execution_count": 31,
     "metadata": {},
     "output_type": "execute_result"
    },
    {
     "data": {
      "image/png": "[encoded data removed]",
      "text/plain": [
       "<Figure size 432x288 with 1 Axes>"
      ]
     },
     "metadata": {},
     "output_type": "display_data"
    }
   ],
   "source": [
    "sns.boxplot(x = \"Win_prob_.5\", y = \"ADJDE\", data = df)"
   ]
  },
  {
   "cell_type": "markdown",
   "metadata": {},
   "source": [
    "#### we can see that Median of Adjusted Defensive Efficiency for wining teams are lower then that of Lossing teams"
   ]
  },
  {
   "cell_type": "markdown",
   "metadata": {},
   "source": [
    "* ## From this we can conclude that if ADJOE of team is grater then ADJDE then its chaces of winning are higher "
   ]
  },
  {
   "cell_type": "code",
   "execution_count": 32,
   "metadata": {},
   "outputs": [],
   "source": [
    "df_melt = pd.melt(frame = df , id_vars = ['Win_prob_.5'], value_vars = ['ADJOE'])"
   ]
  },
  {
   "cell_type": "code",
   "execution_count": 33,
   "metadata": {},
   "outputs": [
    {
     "data": {
      "text/html": [
       "<div>\n",
       "<style scoped>\n",
       "    .dataframe tbody tr th:only-of-type {\n",
       "        vertical-align: middle;\n",
       "    }\n",
       "\n",
       "    .dataframe tbody tr th {\n",
       "        vertical-align: top;\n",
       "    }\n",
       "\n",
       "    .dataframe thead th {\n",
       "        text-align: right;\n",
       "    }\n",
       "</style>\n",
       "<table border=\"1\" class=\"dataframe\">\n",
       "  <thead>\n",
       "    <tr style=\"text-align: right;\">\n",
       "      <th></th>\n",
       "      <th>Win_prob_.5</th>\n",
       "      <th>variable</th>\n",
       "      <th>value</th>\n",
       "    </tr>\n",
       "  </thead>\n",
       "  <tbody>\n",
       "    <tr>\n",
       "      <th>0</th>\n",
       "      <td>True</td>\n",
       "      <td>ADJOE</td>\n",
       "      <td>123.3</td>\n",
       "    </tr>\n",
       "    <tr>\n",
       "      <th>1</th>\n",
       "      <td>True</td>\n",
       "      <td>ADJOE</td>\n",
       "      <td>129.1</td>\n",
       "    </tr>\n",
       "    <tr>\n",
       "      <th>2</th>\n",
       "      <td>True</td>\n",
       "      <td>ADJOE</td>\n",
       "      <td>114.4</td>\n",
       "    </tr>\n",
       "    <tr>\n",
       "      <th>3</th>\n",
       "      <td>True</td>\n",
       "      <td>ADJOE</td>\n",
       "      <td>115.2</td>\n",
       "    </tr>\n",
       "    <tr>\n",
       "      <th>4</th>\n",
       "      <td>True</td>\n",
       "      <td>ADJOE</td>\n",
       "      <td>117.8</td>\n",
       "    </tr>\n",
       "  </tbody>\n",
       "</table>\n",
       "</div>"
      ],
      "text/plain": [
       "   Win_prob_.5 variable  value\n",
       "0         True    ADJOE  123.3\n",
       "1         True    ADJOE  129.1\n",
       "2         True    ADJOE  114.4\n",
       "3         True    ADJOE  115.2\n",
       "4         True    ADJOE  117.8"
      ]
     },
     "execution_count": 33,
     "metadata": {},
     "output_type": "execute_result"
    }
   ],
   "source": [
    "df_melt.head()"
   ]
  },
  {
   "cell_type": "code",
   "execution_count": 34,
   "metadata": {},
   "outputs": [
    {
     "data": {
      "image/png": "[encoded data removed]",
      "text/plain": [
       "<Figure size 432x288 with 1 Axes>"
      ]
     },
     "metadata": {},
     "output_type": "display_data"
    }
   ],
   "source": [
    "ax = sns.violinplot(x = \"variable\", y = \"value\", hue = \"Win_prob_.5\", data = df_melt , palette=\"muted\", split=True)"
   ]
  },
  {
   "cell_type": "markdown",
   "metadata": {},
   "source": [
    " Now Let's see the boxplot relation ship between Win_prob_.5 and  Power Rating "
   ]
  },
  {
   "cell_type": "code",
   "execution_count": 35,
   "metadata": {},
   "outputs": [
    {
     "data": {
      "text/plain": [
       "<matplotlib.axes._subplots.AxesSubplot at 0x7f13939082b0>"
      ]
     },
     "execution_count": 35,
     "metadata": {},
     "output_type": "execute_result"
    },
    {
     "data": {
      "image/png": "[encoded data removed]",
      "text/plain": [
       "<Figure size 432x288 with 1 Axes>"
      ]
     },
     "metadata": {},
     "output_type": "display_data"
    }
   ],
   "source": [
    "sns.distplot(df['BARTHAG'])"
   ]
  },
  {
   "cell_type": "code",
   "execution_count": 36,
   "metadata": {},
   "outputs": [
    {
     "data": {
      "text/plain": [
       "<matplotlib.axes._subplots.AxesSubplot at 0x7f13938a22e8>"
      ]
     },
     "execution_count": 36,
     "metadata": {},
     "output_type": "execute_result"
    },
    {
     "data": {
      "image/png": "[encoded data removed]",
      "text/plain": [
       "<Figure size 432x288 with 1 Axes>"
      ]
     },
     "metadata": {},
     "output_type": "display_data"
    }
   ],
   "source": [
    "sns.boxplot(x = \"Win_prob_.5\", y = \"BARTHAG\", data = df)"
   ]
  },
  {
   "cell_type": "markdown",
   "metadata": {},
   "source": [
    "* ## we can also conclude from above box plot that more the power rating is more the chances to win match"
   ]
  },
  {
   "cell_type": "code",
   "execution_count": 37,
   "metadata": {},
   "outputs": [
    {
     "data": {
      "text/plain": [
       "<matplotlib.axes._subplots.AxesSubplot at 0x7f13937f94e0>"
      ]
     },
     "execution_count": 37,
     "metadata": {},
     "output_type": "execute_result"
    },
    {
     "data": {
      "image/png": "[encoded data removed]",
      "text/plain": [
       "<Figure size 432x288 with 1 Axes>"
      ]
     },
     "metadata": {},
     "output_type": "display_data"
    }
   ],
   "source": [
    "sns.boxplot(x = \"Win_prob_.5\", y = \"EFG_O\", data = df)"
   ]
  },
  {
   "cell_type": "code",
   "execution_count": 38,
   "metadata": {},
   "outputs": [
    {
     "data": {
      "text/plain": [
       "<matplotlib.axes._subplots.AxesSubplot at 0x7f139378b320>"
      ]
     },
     "execution_count": 38,
     "metadata": {},
     "output_type": "execute_result"
    },
    {
     "data": {
      "image/png": "[encoded data removed]",
      "text/plain": [
       "<Figure size 432x288 with 1 Axes>"
      ]
     },
     "metadata": {},
     "output_type": "display_data"
    }
   ],
   "source": [
    "sns.boxplot(x = \"Win_prob_.5\", y = \"EFG_D\", data = df)"
   ]
  },
  {
   "cell_type": "code",
   "execution_count": 39,
   "metadata": {},
   "outputs": [],
   "source": [
    "df['shot_diff'] = df['EFG_O'] - df['EFG_D']"
   ]
  },
  {
   "cell_type": "code",
   "execution_count": 40,
   "metadata": {},
   "outputs": [
    {
     "data": {
      "text/plain": [
       "<matplotlib.axes._subplots.AxesSubplot at 0x7f139380b6d8>"
      ]
     },
     "execution_count": 40,
     "metadata": {},
     "output_type": "execute_result"
    },
    {
     "data": {
      "image/png": "[encoded data removed]",
      "text/plain": [
       "<Figure size 432x288 with 1 Axes>"
      ]
     },
     "metadata": {},
     "output_type": "display_data"
    }
   ],
   "source": [
    "sns.boxplot(x = \"Win_prob_.5\", y = \"shot_diff\", data = df)"
   ]
  },
  {
   "cell_type": "code",
   "execution_count": null,
   "metadata": {},
   "outputs": [],
   "source": []
  },
  {
   "cell_type": "markdown",
   "metadata": {},
   "source": [
    "* ## Now we can also conclude that if team's  Effective Field Goal Percentage Shot is higher then Effective Field Goal Percentage Allowed then the probability of wining the match are higher"
   ]
  },
  {
   "cell_type": "markdown",
   "metadata": {},
   "source": [
    "Now let's see the relationship between win_prob_.5 and Turnover Percentage"
   ]
  },
  {
   "cell_type": "code",
   "execution_count": 41,
   "metadata": {},
   "outputs": [
    {
     "data": {
      "text/plain": [
       "<matplotlib.axes._subplots.AxesSubplot at 0x7f1390cb7fd0>"
      ]
     },
     "execution_count": 41,
     "metadata": {},
     "output_type": "execute_result"
    },
    {
     "data": {
      "image/png": "[encoded data removed]",
      "text/plain": [
       "<Figure size 432x288 with 1 Axes>"
      ]
     },
     "metadata": {},
     "output_type": "display_data"
    }
   ],
   "source": [
    "sns.boxplot(x = \"Win_prob_.5\", y = \"TOR\", data = df)"
   ]
  },
  {
   "cell_type": "code",
   "execution_count": 42,
   "metadata": {},
   "outputs": [
    {
     "data": {
      "text/plain": [
       "<matplotlib.axes._subplots.AxesSubplot at 0x7f1390cb1780>"
      ]
     },
     "execution_count": 42,
     "metadata": {},
     "output_type": "execute_result"
    },
    {
     "data": {
      "image/png": "[encoded data removed]",
      "text/plain": [
       "<Figure size 432x288 with 1 Axes>"
      ]
     },
     "metadata": {},
     "output_type": "display_data"
    }
   ],
   "source": [
    "sns.boxplot(x = \"Win_prob_.5\", y = \"TORD\", data = df)"
   ]
  },
  {
   "cell_type": "markdown",
   "metadata": {},
   "source": [
    "* ## There is no such big relation ship bewteen two"
   ]
  },
  {
   "cell_type": "markdown",
   "metadata": {},
   "source": [
    "Relationship between winprob.5 and Rebound Percentage"
   ]
  },
  {
   "cell_type": "markdown",
   "metadata": {},
   "source": [
    "* Offensive Rebound Percentage"
   ]
  },
  {
   "cell_type": "code",
   "execution_count": 43,
   "metadata": {},
   "outputs": [
    {
     "data": {
      "text/plain": [
       "<matplotlib.axes._subplots.AxesSubplot at 0x7f1390c2bd68>"
      ]
     },
     "execution_count": 43,
     "metadata": {},
     "output_type": "execute_result"
    },
    {
     "data": {
      "image/png": "[encoded data removed]",
      "text/plain": [
       "<Figure size 432x288 with 1 Axes>"
      ]
     },
     "metadata": {},
     "output_type": "display_data"
    }
   ],
   "source": [
    "sns.boxplot(x = \"Win_prob_.5\", y = \"ORB\", data = df)"
   ]
  },
  {
   "cell_type": "markdown",
   "metadata": {},
   "source": [
    "* Defensive Rebound Percentage"
   ]
  },
  {
   "cell_type": "code",
   "execution_count": 44,
   "metadata": {},
   "outputs": [
    {
     "data": {
      "text/plain": [
       "<matplotlib.axes._subplots.AxesSubplot at 0x7f1390c93f28>"
      ]
     },
     "execution_count": 44,
     "metadata": {},
     "output_type": "execute_result"
    },
    {
     "data": {
      "image/png": "[encoded data removed]",
      "text/plain": [
       "<Figure size 432x288 with 1 Axes>"
      ]
     },
     "metadata": {},
     "output_type": "display_data"
    }
   ],
   "source": [
    "sns.boxplot(x = \"Win_prob_.5\", y = \"DRB\", data = df)"
   ]
  },
  {
   "cell_type": "markdown",
   "metadata": {},
   "source": [
    "* lets see the relationship between these two"
   ]
  },
  {
   "cell_type": "code",
   "execution_count": 45,
   "metadata": {},
   "outputs": [],
   "source": [
    "df['rebound_diff'] = df['ORB'] - df['DRB']"
   ]
  },
  {
   "cell_type": "code",
   "execution_count": 46,
   "metadata": {},
   "outputs": [
    {
     "data": {
      "text/plain": [
       "<matplotlib.axes._subplots.AxesSubplot at 0x7f1390b46c88>"
      ]
     },
     "execution_count": 46,
     "metadata": {},
     "output_type": "execute_result"
    },
    {
     "data": {
      "image/png": "[encoded data removed]",
      "text/plain": [
       "<Figure size 432x288 with 1 Axes>"
      ]
     },
     "metadata": {},
     "output_type": "display_data"
    }
   ],
   "source": [
    "sns.boxplot(x = \"Win_prob_.5\", y = \"rebound_diff\", data = df)"
   ]
  },
  {
   "cell_type": "markdown",
   "metadata": {},
   "source": [
    "* ## we can not directly predict the relation ship"
   ]
  },
  {
   "cell_type": "markdown",
   "metadata": {},
   "source": [
    "Let's see the relatioship between Free Throw Rate"
   ]
  },
  {
   "cell_type": "code",
   "execution_count": 47,
   "metadata": {},
   "outputs": [
    {
     "data": {
      "text/plain": [
       "<matplotlib.axes._subplots.AxesSubplot at 0x7f1390aefcf8>"
      ]
     },
     "execution_count": 47,
     "metadata": {},
     "output_type": "execute_result"
    },
    {
     "data": {
      "image/png": "[encoded data removed]",
      "text/plain": [
       "<Figure size 432x288 with 1 Axes>"
      ]
     },
     "metadata": {},
     "output_type": "display_data"
    }
   ],
   "source": [
    "sns.boxplot(x = 'Win_prob_.5' , y = 'FTR', data = df)"
   ]
  },
  {
   "cell_type": "code",
   "execution_count": 48,
   "metadata": {},
   "outputs": [
    {
     "data": {
      "text/plain": [
       "<matplotlib.axes._subplots.AxesSubplot at 0x7f1390a62198>"
      ]
     },
     "execution_count": 48,
     "metadata": {},
     "output_type": "execute_result"
    },
    {
     "data": {
      "image/png": "[encoded data removed]",
      "text/plain": [
       "<Figure size 432x288 with 1 Axes>"
      ]
     },
     "metadata": {},
     "output_type": "display_data"
    }
   ],
   "source": [
    "sns.boxplot(x = 'Win_prob_.5', y = 'FTRD', data = df)"
   ]
  },
  {
   "cell_type": "code",
   "execution_count": 49,
   "metadata": {},
   "outputs": [],
   "source": [
    "df['throw_diff'] = df['FTR'] - df['FTRD']"
   ]
  },
  {
   "cell_type": "code",
   "execution_count": 50,
   "metadata": {},
   "outputs": [
    {
     "data": {
      "text/plain": [
       "<matplotlib.axes._subplots.AxesSubplot at 0x7f13909cd400>"
      ]
     },
     "execution_count": 50,
     "metadata": {},
     "output_type": "execute_result"
    },
    {
     "data": {
      "image/png": "[encoded data removed]",
      "text/plain": [
       "<Figure size 432x288 with 1 Axes>"
      ]
     },
     "metadata": {},
     "output_type": "display_data"
    }
   ],
   "source": [
    "sns.boxplot(x = 'Win_prob_.5', y = 'throw_diff', data = df)"
   ]
  },
  {
   "cell_type": "markdown",
   "metadata": {},
   "source": [
    "* ## We can not pridict the relaionship between the two variable "
   ]
  },
  {
   "cell_type": "markdown",
   "metadata": {},
   "source": [
    "now let's see the relationship between Wining and 2, 3 pointer"
   ]
  },
  {
   "cell_type": "code",
   "execution_count": 51,
   "metadata": {},
   "outputs": [
    {
     "data": {
      "text/plain": [
       "<matplotlib.axes._subplots.AxesSubplot at 0x7f139094f358>"
      ]
     },
     "execution_count": 51,
     "metadata": {},
     "output_type": "execute_result"
    },
    {
     "data": {
      "image/png": "[encoded data removed]",
      "text/plain": [
       "<Figure size 432x288 with 1 Axes>"
      ]
     },
     "metadata": {},
     "output_type": "display_data"
    }
   ],
   "source": [
    "sns.boxplot(x = 'Win_prob_.5', y = '2P_O', data = df)"
   ]
  },
  {
   "cell_type": "code",
   "execution_count": 52,
   "metadata": {},
   "outputs": [
    {
     "data": {
      "text/plain": [
       "<matplotlib.axes._subplots.AxesSubplot at 0x7f13908c85c0>"
      ]
     },
     "execution_count": 52,
     "metadata": {},
     "output_type": "execute_result"
    },
    {
     "data": {
      "image/png": "[encoded data removed]",
      "text/plain": [
       "<Figure size 432x288 with 1 Axes>"
      ]
     },
     "metadata": {},
     "output_type": "display_data"
    }
   ],
   "source": [
    "sns.boxplot(x = 'Win_prob_.5', y = '2P_D', data = df)"
   ]
  },
  {
   "cell_type": "code",
   "execution_count": 53,
   "metadata": {},
   "outputs": [],
   "source": [
    "df['2p_diff'] = df['2P_O'] - df['2P_D']"
   ]
  },
  {
   "cell_type": "code",
   "execution_count": 54,
   "metadata": {},
   "outputs": [
    {
     "data": {
      "text/plain": [
       "<matplotlib.axes._subplots.AxesSubplot at 0x7f13909780f0>"
      ]
     },
     "execution_count": 54,
     "metadata": {},
     "output_type": "execute_result"
    },
    {
     "data": {
      "image/png": "[encoded data removed]",
      "text/plain": [
       "<Figure size 432x288 with 1 Axes>"
      ]
     },
     "metadata": {},
     "output_type": "display_data"
    }
   ],
   "source": [
    "sns.boxplot(x = 'Win_prob_.5', y = '2p_diff', data = df)"
   ]
  },
  {
   "cell_type": "code",
   "execution_count": 55,
   "metadata": {},
   "outputs": [
    {
     "data": {
      "text/plain": [
       "<matplotlib.axes._subplots.AxesSubplot at 0x7f1390870470>"
      ]
     },
     "execution_count": 55,
     "metadata": {},
     "output_type": "execute_result"
    },
    {
     "data": {
      "image/png": "[encoded data removed]",
      "text/plain": [
       "<Figure size 432x288 with 1 Axes>"
      ]
     },
     "metadata": {},
     "output_type": "display_data"
    }
   ],
   "source": [
    "sns.boxplot(x = 'Win_prob_.5', y = '3P_O', data = df)"
   ]
  },
  {
   "cell_type": "code",
   "execution_count": 56,
   "metadata": {},
   "outputs": [
    {
     "data": {
      "text/plain": [
       "<matplotlib.axes._subplots.AxesSubplot at 0x7f13907b3748>"
      ]
     },
     "execution_count": 56,
     "metadata": {},
     "output_type": "execute_result"
    },
    {
     "data": {
      "image/png": "[encoded data removed]",
      "text/plain": [
       "<Figure size 432x288 with 1 Axes>"
      ]
     },
     "metadata": {},
     "output_type": "display_data"
    }
   ],
   "source": [
    "sns.boxplot(x = 'Win_prob_.5', y = '3P_D', data = df)"
   ]
  },
  {
   "cell_type": "code",
   "execution_count": null,
   "metadata": {},
   "outputs": [],
   "source": []
  },
  {
   "cell_type": "code",
   "execution_count": 59,
   "metadata": {},
   "outputs": [
    {
     "data": {
      "text/plain": [
       "Index(['TEAM', 'CONF', 'ADJOE', 'ADJDE', 'BARTHAG', 'EFG_O', 'EFG_D', 'TOR',\n",
       "       'TORD', 'ORB', 'DRB', 'FTR', 'FTRD', '2P_O', '2P_D', '3P_O', '3P_D',\n",
       "       'ADJ_T', 'WAB', 'POSTSEASON', 'SEED', 'YEAR', 'W_ratio', 'Win_prob_.5',\n",
       "       'shot_diff', 'rebound_diff', 'throw_diff', '2p_diff'],\n",
       "      dtype='object')"
      ]
     },
     "execution_count": 59,
     "metadata": {},
     "output_type": "execute_result"
    }
   ],
   "source": [
    "df.columns"
   ]
  },
  {
   "cell_type": "code",
   "execution_count": 60,
   "metadata": {},
   "outputs": [],
   "source": [
    "df['3p_diff'] = df['3P_O'] - df['3P_D']"
   ]
  },
  {
   "cell_type": "code",
   "execution_count": 61,
   "metadata": {},
   "outputs": [
    {
     "data": {
      "text/plain": [
       "<matplotlib.axes._subplots.AxesSubplot at 0x7f13905b7438>"
      ]
     },
     "execution_count": 61,
     "metadata": {},
     "output_type": "execute_result"
    },
    {
     "data": {
      "image/png": "[encoded data removed]",
      "text/plain": [
       "<Figure size 432x288 with 1 Axes>"
      ]
     },
     "metadata": {},
     "output_type": "display_data"
    }
   ],
   "source": [
    "sns.boxplot(x = 'Win_prob_.5', y = '3p_diff', data = df)"
   ]
  },
  {
   "cell_type": "code",
   "execution_count": 62,
   "metadata": {},
   "outputs": [],
   "source": [
    "df['Win_prob_.5'] = df['Win_prob_.5'].astype(int)"
   ]
  },
  {
   "cell_type": "code",
   "execution_count": 63,
   "metadata": {},
   "outputs": [
    {
     "data": {
      "text/plain": [
       "<matplotlib.axes._subplots.AxesSubplot at 0x7f13907b3b38>"
      ]
     },
     "execution_count": 63,
     "metadata": {},
     "output_type": "execute_result"
    },
    {
     "data": {
      "image/png": "[encoded data removed]",
      "text/plain": [
       "<Figure size 432x288 with 1 Axes>"
      ]
     },
     "metadata": {},
     "output_type": "display_data"
    }
   ],
   "source": [
    "sns.distplot(df[df['Win_prob_.5'] ==1]['3p_diff'])"
   ]
  },
  {
   "cell_type": "code",
   "execution_count": 64,
   "metadata": {},
   "outputs": [],
   "source": [
    "df_win = df[df['Win_prob_.5'] == 1]"
   ]
  },
  {
   "cell_type": "code",
   "execution_count": 65,
   "metadata": {},
   "outputs": [
    {
     "data": {
      "text/plain": [
       "<matplotlib.axes._subplots.AxesSubplot at 0x7f1390553f60>"
      ]
     },
     "execution_count": 65,
     "metadata": {},
     "output_type": "execute_result"
    },
    {
     "data": {
      "image/png": "[encoded data removed]",
      "text/plain": [
       "<Figure size 432x288 with 1 Axes>"
      ]
     },
     "metadata": {},
     "output_type": "display_data"
    }
   ],
   "source": [
    "df_win['3p_diff'].hist()"
   ]
  },
  {
   "cell_type": "code",
   "execution_count": 66,
   "metadata": {},
   "outputs": [],
   "source": [
    "df_loss = df[df['Win_prob_.5'] == 0]"
   ]
  },
  {
   "cell_type": "code",
   "execution_count": 67,
   "metadata": {},
   "outputs": [
    {
     "data": {
      "text/plain": [
       "<matplotlib.axes._subplots.AxesSubplot at 0x7f13904a5c50>"
      ]
     },
     "execution_count": 67,
     "metadata": {},
     "output_type": "execute_result"
    },
    {
     "data": {
      "image/png": "[encoded data removed]",
      "text/plain": [
       "<Figure size 432x288 with 1 Axes>"
      ]
     },
     "metadata": {},
     "output_type": "display_data"
    }
   ],
   "source": [
    "df_loss['3p_diff'].hist()"
   ]
  },
  {
   "cell_type": "code",
   "execution_count": 68,
   "metadata": {},
   "outputs": [
    {
     "data": {
      "text/plain": [
       "<matplotlib.axes._subplots.AxesSubplot at 0x7f1390469c18>"
      ]
     },
     "execution_count": 68,
     "metadata": {},
     "output_type": "execute_result"
    },
    {
     "data": {
      "image/png": "[encoded data removed]",
      "text/plain": [
       "<Figure size 432x288 with 1 Axes>"
      ]
     },
     "metadata": {},
     "output_type": "display_data"
    }
   ],
   "source": [
    "df_win['2p_diff'].hist()"
   ]
  },
  {
   "cell_type": "code",
   "execution_count": 69,
   "metadata": {},
   "outputs": [
    {
     "data": {
      "text/plain": [
       "<matplotlib.axes._subplots.AxesSubplot at 0x7f1390340358>"
      ]
     },
     "execution_count": 69,
     "metadata": {},
     "output_type": "execute_result"
    },
    {
     "data": {
      "image/png": "[encoded data removed]",
      "text/plain": [
       "<Figure size 432x288 with 1 Axes>"
      ]
     },
     "metadata": {},
     "output_type": "display_data"
    }
   ],
   "source": [
    "df_loss['2p_diff'].hist()"
   ]
  },
  {
   "cell_type": "code",
   "execution_count": 70,
   "metadata": {},
   "outputs": [
    {
     "data": {
      "text/plain": [
       "count    1757.000000\n",
       "mean       -0.162094\n",
       "std         5.022233\n",
       "min       -15.900000\n",
       "25%        -3.600000\n",
       "50%         0.000000\n",
       "75%         3.200000\n",
       "max        18.000000\n",
       "Name: 2p_diff, dtype: float64"
      ]
     },
     "execution_count": 70,
     "metadata": {},
     "output_type": "execute_result"
    }
   ],
   "source": [
    "df['2p_diff'].describe()"
   ]
  },
  {
   "cell_type": "markdown",
   "metadata": {},
   "source": [
    "* ## Now we can also conclude that if team's Two-Point Shooting Percentage and Three-Point Shooting Percentage are  higher then Two-Point Shooting Percentage Allowed and Three-Point Shooting Percentage Allowed then there are chances to win the match"
   ]
  },
  {
   "cell_type": "markdown",
   "metadata": {},
   "source": [
    "Let's see the how wining probalility and Wins Above Bubble are related"
   ]
  },
  {
   "cell_type": "code",
   "execution_count": 71,
   "metadata": {},
   "outputs": [
    {
     "data": {
      "text/plain": [
       "<matplotlib.axes._subplots.AxesSubplot at 0x7f13902c9e48>"
      ]
     },
     "execution_count": 71,
     "metadata": {},
     "output_type": "execute_result"
    },
    {
     "data": {
      "image/png": "[encoded data removed]",
      "text/plain": [
       "<Figure size 432x288 with 1 Axes>"
      ]
     },
     "metadata": {},
     "output_type": "display_data"
    }
   ],
   "source": [
    "sns.boxplot(x = 'Win_prob_.5' , y = 'WAB' , data = df)"
   ]
  },
  {
   "cell_type": "markdown",
   "metadata": {},
   "source": [
    "* ## we can clearly see that higher the WAB is higher the chances to win the match"
   ]
  },
  {
   "cell_type": "code",
   "execution_count": null,
   "metadata": {},
   "outputs": [],
   "source": []
  },
  {
   "cell_type": "code",
   "execution_count": null,
   "metadata": {},
   "outputs": [],
   "source": []
  },
  {
   "cell_type": "code",
   "execution_count": null,
   "metadata": {},
   "outputs": [],
   "source": []
  },
  {
   "cell_type": "markdown",
   "metadata": {},
   "source": [
    "# CONCLUSION OF EDA"
   ]
  },
  {
   "cell_type": "markdown",
   "metadata": {},
   "source": [
    "* ### higher the WAB is higher the chances to win the match"
   ]
  },
  {
   "cell_type": "markdown",
   "metadata": {},
   "source": [
    "* ### if team's Two-Point Shooting Percentage and Three-Point Shooting Percentage are higher then Two-Point Shooting Percentage Allowed and Three-Point Shooting Percentage Allowed then there are chances to win the match"
   ]
  },
  {
   "cell_type": "markdown",
   "metadata": {},
   "source": [
    "* ###  if team's Effective Field Goal Percentage Shot is higher then Effective Field Goal Percentage Allowed then the probability of wining the match are higher"
   ]
  },
  {
   "cell_type": "markdown",
   "metadata": {},
   "source": [
    "* ### More the power rating is more the chances to win match"
   ]
  },
  {
   "cell_type": "markdown",
   "metadata": {},
   "source": [
    "* ### If ADJOE of team is grater then ADJDE then its chaces of winning are higher"
   ]
  },
  {
   "cell_type": "code",
   "execution_count": null,
   "metadata": {},
   "outputs": [],
   "source": []
  }
 ],
 "metadata": {
  "kernelspec": {
   "display_name": "Python 3",
   "language": "python",
   "name": "python3"
  },
  "language_info": {
   "codemirror_mode": {
    "name": "ipython",
    "version": 3
   },
   "file_extension": ".py",
   "mimetype": "text/x-python",
   "name": "python",
   "nbconvert_exporter": "python",
   "pygments_lexer": "ipython3",
   "version": "3.6.8"
  }
 },
 "nbformat": 4,
 "nbformat_minor": 2
}
